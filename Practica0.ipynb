{
 "cells": [
  {
   "cell_type": "markdown",
   "metadata": {},
   "source": [
    "Packages needed"
   ]
  },
  {
   "cell_type": "code",
   "execution_count": null,
   "metadata": {},
   "outputs": [],
   "source": [
    "import pandas as pd\n",
    "import numpy as np"
   ]
  },
  {
   "cell_type": "code",
   "execution_count": null,
   "metadata": {},
   "outputs": [],
   "source": [
    "class Datos:\n",
    "\n",
    "    # Constructor: procesar el fichero para asignar correctamente las variables nominalAtributos, datos y diccionario\n",
    "    def __init__(self, nombreFichero):\n",
    "        pass\n",
    "    # Devuelve el subconjunto de los datos cuyos índices se pasan como argumento\n",
    "    def extraeDatos(self, idx):\n",
    "        pass"
   ]
  }
 ],
 "metadata": {
  "language_info": {
   "name": "python"
  },
  "orig_nbformat": 4
 },
 "nbformat": 4,
 "nbformat_minor": 2
}
