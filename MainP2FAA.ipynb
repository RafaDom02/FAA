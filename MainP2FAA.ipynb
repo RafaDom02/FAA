{
 "cells": [
  {
   "cell_type": "markdown",
   "metadata": {},
   "source": [
    "# Parte I K-NN"
   ]
  },
  {
   "cell_type": "code",
   "execution_count": 15,
   "metadata": {},
   "outputs": [],
   "source": [
    "from Datos import Datos\n",
    "from ClusteringKMeans import ClusteringKMeans\n",
    "import EstrategiaParticionado\n",
    "import Clasificador\n",
    "import numpy as np\n",
    "from tabulate import tabulate\n",
    "import matplotlib\n",
    "matplotlib.use('TkAgg')\n",
    "import matplotlib.pyplot as plt\n",
    "\n"
   ]
  },
  {
   "cell_type": "code",
   "execution_count": 2,
   "metadata": {},
   "outputs": [
    {
     "name": "stdout",
     "output_type": "stream",
     "text": [
      "NOMINAL ATRIBUTOS HEART\n",
      "[False, True, True, False, False, False, True, False, True, False, True, True]\n",
      "DICCIONARIO HEART\n",
      "{'Age': {}, 'Sex': {'F': 0, 'M': 1}, 'ChestPainType': {'ASY': 0, 'ATA': 1, 'NAP': 2, 'TA': 3}, 'RestingBP': {}, 'Cholesterol': {}, 'FastingBS': {}, 'RestingECG': {'LVH': 0, 'Normal': 1, 'ST': 2}, 'MaxHR': {}, 'ExerciseAngina': {'N': 0, 'Y': 1}, 'Oldpeak': {}, 'ST_Slope': {'Down': 0, 'Flat': 1, 'Up': 2}, 'Class': {'0': 0, '1': 1}}\n",
      "MATRIZ DE DATOS HEART\n",
      "    Age  Sex  ChestPainType  RestingBP  Cholesterol  FastingBS  RestingECG  \\\n",
      "0  40.0  1.0            1.0      140.0        289.0        0.0         1.0   \n",
      "1  49.0  0.0            2.0      160.0        180.0        0.0         1.0   \n",
      "2  37.0  1.0            1.0      130.0        283.0        0.0         2.0   \n",
      "3  48.0  0.0            0.0      138.0        214.0        0.0         1.0   \n",
      "4  54.0  1.0            2.0      150.0        195.0        0.0         1.0   \n",
      "\n",
      "   MaxHR  ExerciseAngina  Oldpeak  ST_Slope  Class  \n",
      "0  172.0             0.0      0.0       2.0    0.0  \n",
      "1  156.0             0.0      1.0       1.0    1.0  \n",
      "2   98.0             0.0      0.0       2.0    0.0  \n",
      "3  108.0             1.0      1.5       1.0    1.0  \n",
      "4  122.0             0.0      0.0       2.0    0.0  \n",
      "        Age  Sex  ChestPainType  RestingBP  Cholesterol  FastingBS  \\\n",
      "0 -1.432359  1.0            1.0   0.410685     0.824621  -0.551041   \n",
      "1 -0.478223  0.0            2.0   1.490940    -0.171867  -0.551041   \n",
      "2 -1.750404  1.0            1.0  -0.129442     0.769768  -0.551041   \n",
      "3 -0.584238  0.0            0.0   0.302660     0.138964  -0.551041   \n",
      "4  0.051853  1.0            2.0   0.950812    -0.034736  -0.551041   \n",
      "\n",
      "   RestingECG     MaxHR  ExerciseAngina   Oldpeak  ST_Slope  Class  \n",
      "0         1.0  1.382175             0.0 -0.831979       2.0    0.0  \n",
      "1         1.0  0.753746             0.0  0.105606       1.0    1.0  \n",
      "2         2.0 -1.524307             0.0 -0.831979       2.0    0.0  \n",
      "3         1.0 -1.131539             1.0  0.574398       1.0    1.0  \n",
      "4         1.0 -0.581664             0.0 -0.831979       2.0    0.0  \n"
     ]
    },
    {
     "name": "stderr",
     "output_type": "stream",
     "text": [
      "/home/pablos/Desktop/Asignaturas/FAA/Practicas/FAA/Datos.py:100: FutureWarning: Series.__getitem__ treating keys as positions is deprecated. In a future version, integer keys will always be treated as labels (consistent with DataFrame behavior). To access a value by position, use `ser.iloc[pos]`\n",
      "  self.datos.iloc[:,idx] = (self.datos.iloc[:,idx] - medias[idx]) / desv_tipicas[idx]\n"
     ]
    }
   ],
   "source": [
    "dataset_1=Datos('./datasets/heart.csv')\n",
    "print(\"NOMINAL ATRIBUTOS HEART\")\n",
    "print(dataset_1.nominalAtributos)\n",
    "print(\"DICCIONARIO HEART\")\n",
    "print (dataset_1.diccionarios)\n",
    "print(\"MATRIZ DE DATOS HEART\")\n",
    "print(dataset_1.datos.head())\n",
    "dataset_1.normalizarDatos()\n",
    "print(dataset_1.datos.head())\n"
   ]
  },
  {
   "cell_type": "code",
   "execution_count": 3,
   "metadata": {},
   "outputs": [
    {
     "name": "stdout",
     "output_type": "stream",
     "text": [
      "Numero de particiones realizadas: 5\n",
      "Indice de errores por partición:\n",
      "+----------------+----------------+\n",
      "|   Nº particion |   Indice error |\n",
      "+================+================+\n",
      "|              1 |       0.141304 |\n",
      "+----------------+----------------+\n",
      "|              2 |       0.206522 |\n",
      "+----------------+----------------+\n",
      "|              3 |       0.211957 |\n",
      "+----------------+----------------+\n",
      "|              4 |       0.157609 |\n",
      "+----------------+----------------+\n",
      "|              5 |       0.195652 |\n",
      "+----------------+----------------+\n"
     ]
    }
   ],
   "source": [
    "estrategia = EstrategiaParticionado.ValidacionSimple(5, 0.2)\n",
    "clasificador = Clasificador.Clasificador()\n",
    "knn = Clasificador.ClasificadorKNN(3)\n",
    "errores1 = clasificador.validacion(estrategia, dataset_1, knn, None)\n",
    "\n",
    "headers = [\"Nº particion\", \"Indice error\"]\n",
    "\n",
    "desviacion_estandar = np.std(errores1)\n",
    "media = sum(errores1) / len(errores1)\n",
    "print(\"Indice de errores por partición:\")\n",
    "table = tabulate(enumerate(errores1, 1), headers, tablefmt=\"grid\")\n",
    "print(table)"
   ]
  },
  {
   "cell_type": "code",
   "execution_count": 4,
   "metadata": {},
   "outputs": [
    {
     "name": "stdout",
     "output_type": "stream",
     "text": [
      "NOMINAL ATRIBUTOS WDBC\n",
      "[False, False, False, False, False, False, False, False, False, False, False, False, False, False, False, False, False, False, False, False, False, False, False, False, False, False, False, False, False, False, True]\n",
      "DICCIONARIO WDBC\n",
      "{'Atributo1': {}, 'Atributo2': {}, 'Atributo3': {}, 'Atributo4': {}, 'Atributo5': {}, 'Atributo6': {}, 'Atributo7': {}, 'Atributo8': {}, 'Atributo9': {}, 'Atributo10': {}, 'Atributo11': {}, 'Atributo12': {}, 'Atributo13': {}, 'Atributo14': {}, 'Atributo15': {}, 'Atributo16': {}, 'Atributo17': {}, 'Atributo18': {}, 'Atributo19': {}, 'Atributo20': {}, 'Atributo21': {}, 'Atributo22': {}, 'Atributo23': {}, 'Atributo24': {}, 'Atributo25': {}, 'Atributo26': {}, 'Atributo27': {}, 'Atributo28': {}, 'Atributo29': {}, 'Atributo30': {}, 'Class': {'B': 0, 'M': 1}}\n",
      "MATRIZ DE DATOS WDBC\n",
      "   Atributo1  Atributo2  Atributo3  Atributo4  Atributo5  Atributo6  \\\n",
      "0      17.99      10.38     122.80     1001.0    0.11840    0.27760   \n",
      "1      20.57      17.77     132.90     1326.0    0.08474    0.07864   \n",
      "2      19.69      21.25     130.00     1203.0    0.10960    0.15990   \n",
      "3      11.42      20.38      77.58      386.1    0.14250    0.28390   \n",
      "4      20.29      14.34     135.10     1297.0    0.10030    0.13280   \n",
      "\n",
      "   Atributo7  Atributo8  Atributo9  Atributo10  ...  Atributo22  Atributo23  \\\n",
      "0     0.3001    0.14710     0.2419     0.07871  ...       17.33      184.60   \n",
      "1     0.0869    0.07017     0.1812     0.05667  ...       23.41      158.80   \n",
      "2     0.1974    0.12790     0.2069     0.05999  ...       25.53      152.50   \n",
      "3     0.2414    0.10520     0.2597     0.09744  ...       26.50       98.87   \n",
      "4     0.1980    0.10430     0.1809     0.05883  ...       16.67      152.20   \n",
      "\n",
      "   Atributo24  Atributo25  Atributo26  Atributo27  Atributo28  Atributo29  \\\n",
      "0      2019.0      0.1622      0.6656      0.7119      0.2654      0.4601   \n",
      "1      1956.0      0.1238      0.1866      0.2416      0.1860      0.2750   \n",
      "2      1709.0      0.1444      0.4245      0.4504      0.2430      0.3613   \n",
      "3       567.7      0.2098      0.8663      0.6869      0.2575      0.6638   \n",
      "4      1575.0      0.1374      0.2050      0.4000      0.1625      0.2364   \n",
      "\n",
      "   Atributo30  Class  \n",
      "0     0.11890    1.0  \n",
      "1     0.08902    1.0  \n",
      "2     0.08758    1.0  \n",
      "3     0.17300    1.0  \n",
      "4     0.07678    1.0  \n",
      "\n",
      "[5 rows x 31 columns]\n"
     ]
    }
   ],
   "source": [
    "dataset_2=Datos('./datasets/wdbc.csv')\n",
    "print(\"NOMINAL ATRIBUTOS WDBC\")\n",
    "print(dataset_2.nominalAtributos)\n",
    "print(\"DICCIONARIO WDBC\")\n",
    "print (dataset_2.diccionarios)\n",
    "print(\"MATRIZ DE DATOS WDBC\")\n",
    "print(dataset_2.datos.head())"
   ]
  },
  {
   "cell_type": "code",
   "execution_count": 5,
   "metadata": {},
   "outputs": [
    {
     "name": "stdout",
     "output_type": "stream",
     "text": [
      "Numero de particiones realizadas: 5\n",
      "Indice de errores por partición:\n",
      "+----------------+----------------+\n",
      "|   Nº particion |   Indice error |\n",
      "+================+================+\n",
      "|              1 |      0.0614035 |\n",
      "+----------------+----------------+\n",
      "|              2 |      0.0526316 |\n",
      "+----------------+----------------+\n",
      "|              3 |      0.0701754 |\n",
      "+----------------+----------------+\n",
      "|              4 |      0.0526316 |\n",
      "+----------------+----------------+\n",
      "|              5 |      0.0350877 |\n",
      "+----------------+----------------+\n"
     ]
    }
   ],
   "source": [
    "estrategia = EstrategiaParticionado.ValidacionSimple(5, 0.2)\n",
    "clasificador = Clasificador.Clasificador()\n",
    "knn = Clasificador.ClasificadorKNN(3)\n",
    "errores1 = clasificador.validacion(estrategia, dataset_2, knn, None)\n",
    "\n",
    "headers = [\"Nº particion\", \"Indice error\"]\n",
    "\n",
    "desviacion_estandar = np.std(errores1)\n",
    "media = sum(errores1) / len(errores1)\n",
    "print(\"Indice de errores por partición:\")\n",
    "table = tabulate(enumerate(errores1, 1), headers, tablefmt=\"grid\")\n",
    "print(table)"
   ]
  },
  {
   "cell_type": "markdown",
   "metadata": {},
   "source": [
    "# Parte II - K Means\n",
    "### Requiere instalación de Tkinter (sudo apt install python3-tk)"
   ]
  },
  {
   "cell_type": "code",
   "execution_count": 10,
   "metadata": {},
   "outputs": [],
   "source": [
    "dataset = Datos('./datasets/iris.csv')\n"
   ]
  },
  {
   "cell_type": "code",
   "execution_count": 16,
   "metadata": {},
   "outputs": [
    {
     "name": "stdout",
     "output_type": "stream",
     "text": [
      "0 \n",
      " [array([7. , 3.2, 4.7, 1.4]), array([6.4, 3.2, 4.5, 1.5]), array([5.5, 2.3, 4. , 1.3]), array([6.5, 2.8, 4.6, 1.5]), array([5.7, 2.8, 4.5, 1.3]), array([6.3, 3.3, 4.7, 1.6]), array([4.9, 2.4, 3.3, 1. ]), array([6.6, 2.9, 4.6, 1.3]), array([5.2, 2.7, 3.9, 1.4]), array([5. , 2. , 3.5, 1. ]), array([5.9, 3. , 4.2, 1.5]), array([6. , 2.2, 4. , 1. ]), array([6.1, 2.9, 4.7, 1.4]), array([5.6, 2.9, 3.6, 1.3]), array([6.7, 3.1, 4.4, 1.4]), array([5.6, 3. , 4.5, 1.5]), array([5.8, 2.7, 4.1, 1. ]), array([6.2, 2.2, 4.5, 1.5]), array([5.6, 2.5, 3.9, 1.1]), array([5.9, 3.2, 4.8, 1.8]), array([6.1, 2.8, 4. , 1.3]), array([6.3, 2.5, 4.9, 1.5]), array([6.1, 2.8, 4.7, 1.2]), array([6.4, 2.9, 4.3, 1.3]), array([6.6, 3. , 4.4, 1.4]), array([6.8, 2.8, 4.8, 1.4]), array([6. , 2.9, 4.5, 1.5]), array([5.7, 2.6, 3.5, 1. ]), array([5.5, 2.4, 3.8, 1.1]), array([5.5, 2.4, 3.7, 1. ]), array([5.8, 2.7, 3.9, 1.2]), array([6. , 2.7, 5.1, 1.6]), array([5.4, 3. , 4.5, 1.5]), array([6. , 3.4, 4.5, 1.6]), array([6.7, 3.1, 4.7, 1.5]), array([6.3, 2.3, 4.4, 1.3]), array([5.6, 3. , 4.1, 1.3]), array([5.5, 2.5, 4. , 1.3]), array([5.5, 2.6, 4.4, 1.2]), array([6.1, 3. , 4.6, 1.4]), array([5.8, 2.6, 4. , 1.2]), array([5. , 2.3, 3.3, 1. ]), array([5.6, 2.7, 4.2, 1.3]), array([5.7, 3. , 4.2, 1.2]), array([5.7, 2.9, 4.2, 1.3]), array([6.2, 2.9, 4.3, 1.3]), array([5.1, 2.5, 3. , 1.1]), array([5.7, 2.8, 4.1, 1.3]), array([5.8, 2.7, 5.1, 1.9]), array([4.9, 2.5, 4.5, 1.7]), array([5.7, 2.5, 5. , 2. ]), array([5.8, 2.8, 5.1, 2.4]), array([6. , 2.2, 5. , 1.5]), array([5.6, 2.8, 4.9, 2. ]), array([6.3, 2.7, 4.9, 1.8]), array([6.2, 2.8, 4.8, 1.8]), array([6.1, 3. , 4.9, 1.8]), array([6.3, 2.8, 5.1, 1.5]), array([6. , 3. , 4.8, 1.8]), array([5.8, 2.7, 5.1, 1.9]), array([6.3, 2.5, 5. , 1.9]), array([5.9, 3. , 5.1, 1.8])] \n",
      "\n",
      "1 \n",
      " [array([6.9, 3.1, 4.9, 1.5]), array([6.7, 3. , 5. , 1.7]), array([6.3, 3.3, 6. , 2.5]), array([7.1, 3. , 5.9, 2.1]), array([6.3, 2.9, 5.6, 1.8]), array([6.5, 3. , 5.8, 2.2]), array([7.6, 3. , 6.6, 2.1]), array([7.3, 2.9, 6.3, 1.8]), array([6.7, 2.5, 5.8, 1.8]), array([7.2, 3.6, 6.1, 2.5]), array([6.5, 3.2, 5.1, 2. ]), array([6.4, 2.7, 5.3, 1.9]), array([6.8, 3. , 5.5, 2.1]), array([6.4, 3.2, 5.3, 2.3]), array([6.5, 3. , 5.5, 1.8]), array([7.7, 3.8, 6.7, 2.2]), array([7.7, 2.6, 6.9, 2.3]), array([6.9, 3.2, 5.7, 2.3]), array([7.7, 2.8, 6.7, 2. ]), array([6.7, 3.3, 5.7, 2.1]), array([7.2, 3.2, 6. , 1.8]), array([6.4, 2.8, 5.6, 2.1]), array([7.2, 3. , 5.8, 1.6]), array([7.4, 2.8, 6.1, 1.9]), array([7.9, 3.8, 6.4, 2. ]), array([6.4, 2.8, 5.6, 2.2]), array([6.1, 2.6, 5.6, 1.4]), array([7.7, 3. , 6.1, 2.3]), array([6.3, 3.4, 5.6, 2.4]), array([6.4, 3.1, 5.5, 1.8]), array([6.9, 3.1, 5.4, 2.1]), array([6.7, 3.1, 5.6, 2.4]), array([6.9, 3.1, 5.1, 2.3]), array([6.8, 3.2, 5.9, 2.3]), array([6.7, 3.3, 5.7, 2.5]), array([6.7, 3. , 5.2, 2.3]), array([6.5, 3. , 5.2, 2. ]), array([6.2, 3.4, 5.4, 2.3])] \n",
      "\n",
      "2 \n",
      " [array([5.1, 3.5, 1.4, 0.2]), array([4.9, 3. , 1.4, 0.2]), array([4.7, 3.2, 1.3, 0.2]), array([4.6, 3.1, 1.5, 0.2]), array([5. , 3.6, 1.4, 0.2]), array([5.4, 3.9, 1.7, 0.4]), array([4.6, 3.4, 1.4, 0.3]), array([5. , 3.4, 1.5, 0.2]), array([4.4, 2.9, 1.4, 0.2]), array([4.9, 3.1, 1.5, 0.1]), array([5.4, 3.7, 1.5, 0.2]), array([4.8, 3.4, 1.6, 0.2]), array([4.8, 3. , 1.4, 0.1]), array([4.3, 3. , 1.1, 0.1]), array([5.8, 4. , 1.2, 0.2]), array([5.7, 4.4, 1.5, 0.4]), array([5.4, 3.9, 1.3, 0.4]), array([5.1, 3.5, 1.4, 0.3]), array([5.7, 3.8, 1.7, 0.3]), array([5.1, 3.8, 1.5, 0.3]), array([5.4, 3.4, 1.7, 0.2]), array([5.1, 3.7, 1.5, 0.4]), array([4.6, 3.6, 1. , 0.2]), array([5.1, 3.3, 1.7, 0.5]), array([4.8, 3.4, 1.9, 0.2]), array([5. , 3. , 1.6, 0.2]), array([5. , 3.4, 1.6, 0.4]), array([5.2, 3.5, 1.5, 0.2]), array([5.2, 3.4, 1.4, 0.2]), array([4.7, 3.2, 1.6, 0.2]), array([4.8, 3.1, 1.6, 0.2]), array([5.4, 3.4, 1.5, 0.4]), array([5.2, 4.1, 1.5, 0.1]), array([5.5, 4.2, 1.4, 0.2]), array([4.9, 3.1, 1.5, 0.1]), array([5. , 3.2, 1.2, 0.2]), array([5.5, 3.5, 1.3, 0.2]), array([4.9, 3.1, 1.5, 0.1]), array([4.4, 3. , 1.3, 0.2]), array([5.1, 3.4, 1.5, 0.2]), array([5. , 3.5, 1.3, 0.3]), array([4.5, 2.3, 1.3, 0.3]), array([4.4, 3.2, 1.3, 0.2]), array([5. , 3.5, 1.6, 0.6]), array([5.1, 3.8, 1.9, 0.4]), array([4.8, 3. , 1.4, 0.3]), array([5.1, 3.8, 1.6, 0.2]), array([4.6, 3.2, 1.4, 0.2]), array([5.3, 3.7, 1.5, 0.2]), array([5. , 3.3, 1.4, 0.2])] \n",
      "\n"
     ]
    }
   ],
   "source": [
    "kmeans = ClusteringKMeans(k=3)\n",
    "clusters = kmeans.clasifica(dataset.datos.iloc[:,:-1])\n",
    "\n",
    "for i in clusters:\n",
    "        print(i, \"\\n\", clusters[i], \"\\n\")\n",
    "\n",
    "colors = ['red', 'blue', 'green']\n",
    "for i, color in enumerate(colors):\n",
    "    if clusters[i]:\n",
    "        cluster_data = np.array(clusters[i])\n",
    "        plt.scatter(cluster_data[:, 2], cluster_data[:, 3], c=color, s=50)\n",
    "\n",
    "centroid_data = np.array(kmeans.centroids)\n",
    "plt.scatter(centroid_data[:, 2], centroid_data[:, 3], c='black', s=200, marker='X')\n",
    "plt.show()\n"
   ]
  },
  {
   "cell_type": "code",
   "execution_count": 18,
   "metadata": {},
   "outputs": [
    {
     "name": "stdout",
     "output_type": "stream",
     "text": [
      "0 \n",
      " [array([5.1, 3.5, 1.4, 0.2]), array([4.9, 3. , 1.4, 0.2]), array([4.7, 3.2, 1.3, 0.2]), array([4.6, 3.1, 1.5, 0.2]), array([5. , 3.6, 1.4, 0.2]), array([5.4, 3.9, 1.7, 0.4]), array([4.6, 3.4, 1.4, 0.3]), array([5. , 3.4, 1.5, 0.2]), array([4.4, 2.9, 1.4, 0.2]), array([4.9, 3.1, 1.5, 0.1]), array([5.4, 3.7, 1.5, 0.2]), array([4.8, 3.4, 1.6, 0.2]), array([4.8, 3. , 1.4, 0.1]), array([4.3, 3. , 1.1, 0.1]), array([5.8, 4. , 1.2, 0.2]), array([5.7, 4.4, 1.5, 0.4]), array([5.4, 3.9, 1.3, 0.4]), array([5.1, 3.5, 1.4, 0.3]), array([5.7, 3.8, 1.7, 0.3]), array([5.1, 3.8, 1.5, 0.3]), array([5.4, 3.4, 1.7, 0.2]), array([5.1, 3.7, 1.5, 0.4]), array([4.6, 3.6, 1. , 0.2]), array([5.1, 3.3, 1.7, 0.5]), array([4.8, 3.4, 1.9, 0.2]), array([5. , 3. , 1.6, 0.2]), array([5. , 3.4, 1.6, 0.4]), array([5.2, 3.5, 1.5, 0.2]), array([5.2, 3.4, 1.4, 0.2]), array([4.7, 3.2, 1.6, 0.2]), array([4.8, 3.1, 1.6, 0.2]), array([5.4, 3.4, 1.5, 0.4]), array([5.2, 4.1, 1.5, 0.1]), array([5.5, 4.2, 1.4, 0.2]), array([4.9, 3.1, 1.5, 0.1]), array([5. , 3.2, 1.2, 0.2]), array([5.5, 3.5, 1.3, 0.2]), array([4.9, 3.1, 1.5, 0.1]), array([4.4, 3. , 1.3, 0.2]), array([5.1, 3.4, 1.5, 0.2]), array([5. , 3.5, 1.3, 0.3]), array([4.5, 2.3, 1.3, 0.3]), array([4.4, 3.2, 1.3, 0.2]), array([5. , 3.5, 1.6, 0.6]), array([5.1, 3.8, 1.9, 0.4]), array([4.8, 3. , 1.4, 0.3]), array([5.1, 3.8, 1.6, 0.2]), array([4.6, 3.2, 1.4, 0.2]), array([5.3, 3.7, 1.5, 0.2]), array([5. , 3.3, 1.4, 0.2]), array([4.9, 2.4, 3.3, 1. ]), array([5. , 2.3, 3.3, 1. ]), array([5.1, 2.5, 3. , 1.1])] \n",
      "\n",
      "1 \n",
      " [array([7. , 3.2, 4.7, 1.4]), array([6.4, 3.2, 4.5, 1.5]), array([6.9, 3.1, 4.9, 1.5]), array([5.5, 2.3, 4. , 1.3]), array([6.5, 2.8, 4.6, 1.5]), array([5.7, 2.8, 4.5, 1.3]), array([6.3, 3.3, 4.7, 1.6]), array([6.6, 2.9, 4.6, 1.3]), array([5.2, 2.7, 3.9, 1.4]), array([5. , 2. , 3.5, 1. ]), array([5.9, 3. , 4.2, 1.5]), array([6. , 2.2, 4. , 1. ]), array([6.1, 2.9, 4.7, 1.4]), array([5.6, 2.9, 3.6, 1.3]), array([6.7, 3.1, 4.4, 1.4]), array([5.6, 3. , 4.5, 1.5]), array([5.8, 2.7, 4.1, 1. ]), array([6.2, 2.2, 4.5, 1.5]), array([5.6, 2.5, 3.9, 1.1]), array([5.9, 3.2, 4.8, 1.8]), array([6.1, 2.8, 4. , 1.3]), array([6.3, 2.5, 4.9, 1.5]), array([6.1, 2.8, 4.7, 1.2]), array([6.4, 2.9, 4.3, 1.3]), array([6.6, 3. , 4.4, 1.4]), array([6.8, 2.8, 4.8, 1.4]), array([6.7, 3. , 5. , 1.7]), array([6. , 2.9, 4.5, 1.5]), array([5.7, 2.6, 3.5, 1. ]), array([5.5, 2.4, 3.8, 1.1]), array([5.5, 2.4, 3.7, 1. ]), array([5.8, 2.7, 3.9, 1.2]), array([6. , 2.7, 5.1, 1.6]), array([5.4, 3. , 4.5, 1.5]), array([6. , 3.4, 4.5, 1.6]), array([6.7, 3.1, 4.7, 1.5]), array([6.3, 2.3, 4.4, 1.3]), array([5.6, 3. , 4.1, 1.3]), array([5.5, 2.5, 4. , 1.3]), array([5.5, 2.6, 4.4, 1.2]), array([6.1, 3. , 4.6, 1.4]), array([5.8, 2.6, 4. , 1.2]), array([5.6, 2.7, 4.2, 1.3]), array([5.7, 3. , 4.2, 1.2]), array([5.7, 2.9, 4.2, 1.3]), array([6.2, 2.9, 4.3, 1.3]), array([5.7, 2.8, 4.1, 1.3]), array([6.3, 3.3, 6. , 2.5]), array([5.8, 2.7, 5.1, 1.9]), array([7.1, 3. , 5.9, 2.1]), array([6.3, 2.9, 5.6, 1.8]), array([6.5, 3. , 5.8, 2.2]), array([7.6, 3. , 6.6, 2.1]), array([4.9, 2.5, 4.5, 1.7]), array([7.3, 2.9, 6.3, 1.8]), array([6.7, 2.5, 5.8, 1.8]), array([7.2, 3.6, 6.1, 2.5]), array([6.5, 3.2, 5.1, 2. ]), array([6.4, 2.7, 5.3, 1.9]), array([6.8, 3. , 5.5, 2.1]), array([5.7, 2.5, 5. , 2. ]), array([5.8, 2.8, 5.1, 2.4]), array([6.4, 3.2, 5.3, 2.3]), array([6.5, 3. , 5.5, 1.8]), array([7.7, 3.8, 6.7, 2.2]), array([7.7, 2.6, 6.9, 2.3]), array([6. , 2.2, 5. , 1.5]), array([6.9, 3.2, 5.7, 2.3]), array([5.6, 2.8, 4.9, 2. ]), array([7.7, 2.8, 6.7, 2. ]), array([6.3, 2.7, 4.9, 1.8]), array([6.7, 3.3, 5.7, 2.1]), array([7.2, 3.2, 6. , 1.8]), array([6.2, 2.8, 4.8, 1.8]), array([6.1, 3. , 4.9, 1.8]), array([6.4, 2.8, 5.6, 2.1]), array([7.2, 3. , 5.8, 1.6]), array([7.4, 2.8, 6.1, 1.9]), array([7.9, 3.8, 6.4, 2. ]), array([6.4, 2.8, 5.6, 2.2]), array([6.3, 2.8, 5.1, 1.5]), array([6.1, 2.6, 5.6, 1.4]), array([7.7, 3. , 6.1, 2.3]), array([6.3, 3.4, 5.6, 2.4]), array([6.4, 3.1, 5.5, 1.8]), array([6. , 3. , 4.8, 1.8]), array([6.9, 3.1, 5.4, 2.1]), array([6.7, 3.1, 5.6, 2.4]), array([6.9, 3.1, 5.1, 2.3]), array([5.8, 2.7, 5.1, 1.9]), array([6.8, 3.2, 5.9, 2.3]), array([6.7, 3.3, 5.7, 2.5]), array([6.7, 3. , 5.2, 2.3]), array([6.3, 2.5, 5. , 1.9]), array([6.5, 3. , 5.2, 2. ]), array([6.2, 3.4, 5.4, 2.3]), array([5.9, 3. , 5.1, 1.8])] \n",
      "\n"
     ]
    }
   ],
   "source": [
    "kmeans = ClusteringKMeans(k=2)\n",
    "clusters = kmeans.clasifica(dataset.datos.iloc[:,:-1])\n",
    "\n",
    "for i in clusters:\n",
    "        print(i, \"\\n\", clusters[i], \"\\n\")\n",
    "\n",
    "colors = ['red', 'blue']\n",
    "for i, color in enumerate(colors):\n",
    "    if clusters[i]:\n",
    "        cluster_data = np.array(clusters[i])\n",
    "        plt.scatter(cluster_data[:, 2], cluster_data[:, 3], c=color, s=50)\n",
    "\n",
    "centroid_data = np.array(kmeans.centroids)\n",
    "plt.scatter(centroid_data[:, 2], centroid_data[:, 3], c='black', s=200, marker='X')\n",
    "plt.show()"
   ]
  },
  {
   "cell_type": "code",
   "execution_count": 23,
   "metadata": {},
   "outputs": [
    {
     "name": "stdout",
     "output_type": "stream",
     "text": [
      "0 \n",
      " [array([5.5, 2.3, 4. , 1.3]), array([5.7, 2.8, 4.5, 1.3]), array([4.9, 2.4, 3.3, 1. ]), array([5.2, 2.7, 3.9, 1.4]), array([5. , 2. , 3.5, 1. ]), array([5.9, 3. , 4.2, 1.5]), array([6. , 2.2, 4. , 1. ]), array([5.6, 2.9, 3.6, 1.3]), array([5.8, 2.7, 4.1, 1. ]), array([5.6, 2.5, 3.9, 1.1]), array([6.1, 2.8, 4. , 1.3]), array([5.7, 2.6, 3.5, 1. ]), array([5.5, 2.4, 3.8, 1.1]), array([5.5, 2.4, 3.7, 1. ]), array([5.8, 2.7, 3.9, 1.2]), array([5.4, 3. , 4.5, 1.5]), array([5.6, 3. , 4.1, 1.3]), array([5.5, 2.5, 4. , 1.3]), array([5.5, 2.6, 4.4, 1.2]), array([5.8, 2.6, 4. , 1.2]), array([5. , 2.3, 3.3, 1. ]), array([5.6, 2.7, 4.2, 1.3]), array([5.7, 3. , 4.2, 1.2]), array([5.7, 2.9, 4.2, 1.3]), array([5.1, 2.5, 3. , 1.1]), array([5.7, 2.8, 4.1, 1.3]), array([4.9, 2.5, 4.5, 1.7])] \n",
      "\n",
      "1 \n",
      " [array([5.1, 3.5, 1.4, 0.2]), array([4.9, 3. , 1.4, 0.2]), array([4.7, 3.2, 1.3, 0.2]), array([4.6, 3.1, 1.5, 0.2]), array([5. , 3.6, 1.4, 0.2]), array([5.4, 3.9, 1.7, 0.4]), array([4.6, 3.4, 1.4, 0.3]), array([5. , 3.4, 1.5, 0.2]), array([4.4, 2.9, 1.4, 0.2]), array([4.9, 3.1, 1.5, 0.1]), array([5.4, 3.7, 1.5, 0.2]), array([4.8, 3.4, 1.6, 0.2]), array([4.8, 3. , 1.4, 0.1]), array([4.3, 3. , 1.1, 0.1]), array([5.8, 4. , 1.2, 0.2]), array([5.7, 4.4, 1.5, 0.4]), array([5.4, 3.9, 1.3, 0.4]), array([5.1, 3.5, 1.4, 0.3]), array([5.7, 3.8, 1.7, 0.3]), array([5.1, 3.8, 1.5, 0.3]), array([5.4, 3.4, 1.7, 0.2]), array([5.1, 3.7, 1.5, 0.4]), array([4.6, 3.6, 1. , 0.2]), array([5.1, 3.3, 1.7, 0.5]), array([4.8, 3.4, 1.9, 0.2]), array([5. , 3. , 1.6, 0.2]), array([5. , 3.4, 1.6, 0.4]), array([5.2, 3.5, 1.5, 0.2]), array([5.2, 3.4, 1.4, 0.2]), array([4.7, 3.2, 1.6, 0.2]), array([4.8, 3.1, 1.6, 0.2]), array([5.4, 3.4, 1.5, 0.4]), array([5.2, 4.1, 1.5, 0.1]), array([5.5, 4.2, 1.4, 0.2]), array([4.9, 3.1, 1.5, 0.1]), array([5. , 3.2, 1.2, 0.2]), array([5.5, 3.5, 1.3, 0.2]), array([4.9, 3.1, 1.5, 0.1]), array([4.4, 3. , 1.3, 0.2]), array([5.1, 3.4, 1.5, 0.2]), array([5. , 3.5, 1.3, 0.3]), array([4.5, 2.3, 1.3, 0.3]), array([4.4, 3.2, 1.3, 0.2]), array([5. , 3.5, 1.6, 0.6]), array([5.1, 3.8, 1.9, 0.4]), array([4.8, 3. , 1.4, 0.3]), array([5.1, 3.8, 1.6, 0.2]), array([4.6, 3.2, 1.4, 0.2]), array([5.3, 3.7, 1.5, 0.2]), array([5. , 3.3, 1.4, 0.2])] \n",
      "\n",
      "2 \n",
      " [array([6.3, 3.3, 6. , 2.5]), array([7.1, 3. , 5.9, 2.1]), array([6.3, 2.9, 5.6, 1.8]), array([6.5, 3. , 5.8, 2.2]), array([7.6, 3. , 6.6, 2.1]), array([7.3, 2.9, 6.3, 1.8]), array([6.7, 2.5, 5.8, 1.8]), array([7.2, 3.6, 6.1, 2.5]), array([6.8, 3. , 5.5, 2.1]), array([6.4, 3.2, 5.3, 2.3]), array([6.5, 3. , 5.5, 1.8]), array([7.7, 3.8, 6.7, 2.2]), array([7.7, 2.6, 6.9, 2.3]), array([6.9, 3.2, 5.7, 2.3]), array([7.7, 2.8, 6.7, 2. ]), array([6.7, 3.3, 5.7, 2.1]), array([7.2, 3.2, 6. , 1.8]), array([6.4, 2.8, 5.6, 2.1]), array([7.2, 3. , 5.8, 1.6]), array([7.4, 2.8, 6.1, 1.9]), array([7.9, 3.8, 6.4, 2. ]), array([6.4, 2.8, 5.6, 2.2]), array([7.7, 3. , 6.1, 2.3]), array([6.3, 3.4, 5.6, 2.4]), array([6.4, 3.1, 5.5, 1.8]), array([6.9, 3.1, 5.4, 2.1]), array([6.7, 3.1, 5.6, 2.4]), array([6.9, 3.1, 5.1, 2.3]), array([6.8, 3.2, 5.9, 2.3]), array([6.7, 3.3, 5.7, 2.5]), array([6.7, 3. , 5.2, 2.3]), array([6.2, 3.4, 5.4, 2.3])] \n",
      "\n",
      "3 \n",
      " [array([7. , 3.2, 4.7, 1.4]), array([6.4, 3.2, 4.5, 1.5]), array([6.9, 3.1, 4.9, 1.5]), array([6.5, 2.8, 4.6, 1.5]), array([6.3, 3.3, 4.7, 1.6]), array([6.6, 2.9, 4.6, 1.3]), array([6.1, 2.9, 4.7, 1.4]), array([6.7, 3.1, 4.4, 1.4]), array([5.6, 3. , 4.5, 1.5]), array([6.2, 2.2, 4.5, 1.5]), array([5.9, 3.2, 4.8, 1.8]), array([6.3, 2.5, 4.9, 1.5]), array([6.1, 2.8, 4.7, 1.2]), array([6.4, 2.9, 4.3, 1.3]), array([6.6, 3. , 4.4, 1.4]), array([6.8, 2.8, 4.8, 1.4]), array([6.7, 3. , 5. , 1.7]), array([6. , 2.9, 4.5, 1.5]), array([6. , 2.7, 5.1, 1.6]), array([6. , 3.4, 4.5, 1.6]), array([6.7, 3.1, 4.7, 1.5]), array([6.3, 2.3, 4.4, 1.3]), array([6.1, 3. , 4.6, 1.4]), array([6.2, 2.9, 4.3, 1.3]), array([5.8, 2.7, 5.1, 1.9]), array([6.5, 3.2, 5.1, 2. ]), array([6.4, 2.7, 5.3, 1.9]), array([5.7, 2.5, 5. , 2. ]), array([5.8, 2.8, 5.1, 2.4]), array([6. , 2.2, 5. , 1.5]), array([5.6, 2.8, 4.9, 2. ]), array([6.3, 2.7, 4.9, 1.8]), array([6.2, 2.8, 4.8, 1.8]), array([6.1, 3. , 4.9, 1.8]), array([6.3, 2.8, 5.1, 1.5]), array([6.1, 2.6, 5.6, 1.4]), array([6. , 3. , 4.8, 1.8]), array([5.8, 2.7, 5.1, 1.9]), array([6.3, 2.5, 5. , 1.9]), array([6.5, 3. , 5.2, 2. ]), array([5.9, 3. , 5.1, 1.8])] \n",
      "\n"
     ]
    }
   ],
   "source": [
    "kmeans = ClusteringKMeans(k=4)\n",
    "clusters = kmeans.clasifica(dataset.datos.iloc[:,:-1])\n",
    "\n",
    "for i in clusters:\n",
    "        print(i, \"\\n\", clusters[i], \"\\n\")\n",
    "\n",
    "colors = ['red', 'blue', 'green', 'yellow']\n",
    "for i, color in enumerate(colors):\n",
    "    if clusters[i]:\n",
    "        cluster_data = np.array(clusters[i])\n",
    "        plt.scatter(cluster_data[:, 2], cluster_data[:, 3], c=color, s=50)\n",
    "\n",
    "centroid_data = np.array(kmeans.centroids)\n",
    "plt.scatter(centroid_data[:, 2], centroid_data[:, 3], c='black', s=200, marker='X')\n",
    "plt.show()"
   ]
  },
  {
   "cell_type": "code",
   "execution_count": 26,
   "metadata": {},
   "outputs": [
    {
     "name": "stdout",
     "output_type": "stream",
     "text": [
      "0 \n",
      " [array([7. , 3.2, 4.7, 1.4]), array([6.4, 3.2, 4.5, 1.5]), array([6.9, 3.1, 4.9, 1.5]), array([6.5, 2.8, 4.6, 1.5]), array([6.3, 3.3, 4.7, 1.6]), array([6.6, 2.9, 4.6, 1.3]), array([6.1, 2.9, 4.7, 1.4]), array([6.7, 3.1, 4.4, 1.4]), array([6.2, 2.2, 4.5, 1.5]), array([5.9, 3.2, 4.8, 1.8]), array([6.3, 2.5, 4.9, 1.5]), array([6.1, 2.8, 4.7, 1.2]), array([6.4, 2.9, 4.3, 1.3]), array([6.6, 3. , 4.4, 1.4]), array([6.8, 2.8, 4.8, 1.4]), array([6.7, 3. , 5. , 1.7]), array([6. , 2.9, 4.5, 1.5]), array([6. , 2.7, 5.1, 1.6]), array([6. , 3.4, 4.5, 1.6]), array([6.7, 3.1, 4.7, 1.5]), array([6.3, 2.3, 4.4, 1.3]), array([6.1, 3. , 4.6, 1.4]), array([6.2, 2.9, 4.3, 1.3]), array([5.8, 2.7, 5.1, 1.9]), array([6.5, 3.2, 5.1, 2. ]), array([6.4, 2.7, 5.3, 1.9]), array([5.7, 2.5, 5. , 2. ]), array([5.8, 2.8, 5.1, 2.4]), array([6. , 2.2, 5. , 1.5]), array([5.6, 2.8, 4.9, 2. ]), array([6.3, 2.7, 4.9, 1.8]), array([6.2, 2.8, 4.8, 1.8]), array([6.1, 3. , 4.9, 1.8]), array([6.3, 2.8, 5.1, 1.5]), array([6.1, 2.6, 5.6, 1.4]), array([6. , 3. , 4.8, 1.8]), array([5.8, 2.7, 5.1, 1.9]), array([6.3, 2.5, 5. , 1.9]), array([6.5, 3. , 5.2, 2. ]), array([5.9, 3. , 5.1, 1.8])] \n",
      "\n",
      "1 \n",
      " [array([4.9, 2.4, 3.3, 1. ]), array([5. , 2. , 3.5, 1. ]), array([5. , 2.3, 3.3, 1. ]), array([5.1, 2.5, 3. , 1.1])] \n",
      "\n",
      "2 \n",
      " [array([5.5, 2.3, 4. , 1.3]), array([5.7, 2.8, 4.5, 1.3]), array([5.2, 2.7, 3.9, 1.4]), array([5.9, 3. , 4.2, 1.5]), array([6. , 2.2, 4. , 1. ]), array([5.6, 2.9, 3.6, 1.3]), array([5.6, 3. , 4.5, 1.5]), array([5.8, 2.7, 4.1, 1. ]), array([5.6, 2.5, 3.9, 1.1]), array([6.1, 2.8, 4. , 1.3]), array([5.7, 2.6, 3.5, 1. ]), array([5.5, 2.4, 3.8, 1.1]), array([5.5, 2.4, 3.7, 1. ]), array([5.8, 2.7, 3.9, 1.2]), array([5.4, 3. , 4.5, 1.5]), array([5.6, 3. , 4.1, 1.3]), array([5.5, 2.5, 4. , 1.3]), array([5.5, 2.6, 4.4, 1.2]), array([5.8, 2.6, 4. , 1.2]), array([5.6, 2.7, 4.2, 1.3]), array([5.7, 3. , 4.2, 1.2]), array([5.7, 2.9, 4.2, 1.3]), array([5.7, 2.8, 4.1, 1.3]), array([4.9, 2.5, 4.5, 1.7])] \n",
      "\n",
      "3 \n",
      " [array([6.3, 3.3, 6. , 2.5]), array([7.1, 3. , 5.9, 2.1]), array([6.3, 2.9, 5.6, 1.8]), array([6.5, 3. , 5.8, 2.2]), array([7.6, 3. , 6.6, 2.1]), array([7.3, 2.9, 6.3, 1.8]), array([6.7, 2.5, 5.8, 1.8]), array([7.2, 3.6, 6.1, 2.5]), array([6.8, 3. , 5.5, 2.1]), array([6.4, 3.2, 5.3, 2.3]), array([6.5, 3. , 5.5, 1.8]), array([7.7, 3.8, 6.7, 2.2]), array([7.7, 2.6, 6.9, 2.3]), array([6.9, 3.2, 5.7, 2.3]), array([7.7, 2.8, 6.7, 2. ]), array([6.7, 3.3, 5.7, 2.1]), array([7.2, 3.2, 6. , 1.8]), array([6.4, 2.8, 5.6, 2.1]), array([7.2, 3. , 5.8, 1.6]), array([7.4, 2.8, 6.1, 1.9]), array([7.9, 3.8, 6.4, 2. ]), array([6.4, 2.8, 5.6, 2.2]), array([7.7, 3. , 6.1, 2.3]), array([6.3, 3.4, 5.6, 2.4]), array([6.4, 3.1, 5.5, 1.8]), array([6.9, 3.1, 5.4, 2.1]), array([6.7, 3.1, 5.6, 2.4]), array([6.9, 3.1, 5.1, 2.3]), array([6.8, 3.2, 5.9, 2.3]), array([6.7, 3.3, 5.7, 2.5]), array([6.7, 3. , 5.2, 2.3]), array([6.2, 3.4, 5.4, 2.3])] \n",
      "\n",
      "4 \n",
      " [array([5.1, 3.5, 1.4, 0.2]), array([4.9, 3. , 1.4, 0.2]), array([4.7, 3.2, 1.3, 0.2]), array([4.6, 3.1, 1.5, 0.2]), array([5. , 3.6, 1.4, 0.2]), array([5.4, 3.9, 1.7, 0.4]), array([4.6, 3.4, 1.4, 0.3]), array([5. , 3.4, 1.5, 0.2]), array([4.4, 2.9, 1.4, 0.2]), array([4.9, 3.1, 1.5, 0.1]), array([5.4, 3.7, 1.5, 0.2]), array([4.8, 3.4, 1.6, 0.2]), array([4.8, 3. , 1.4, 0.1]), array([4.3, 3. , 1.1, 0.1]), array([5.8, 4. , 1.2, 0.2]), array([5.7, 4.4, 1.5, 0.4]), array([5.4, 3.9, 1.3, 0.4]), array([5.1, 3.5, 1.4, 0.3]), array([5.7, 3.8, 1.7, 0.3]), array([5.1, 3.8, 1.5, 0.3]), array([5.4, 3.4, 1.7, 0.2]), array([5.1, 3.7, 1.5, 0.4]), array([4.6, 3.6, 1. , 0.2]), array([5.1, 3.3, 1.7, 0.5]), array([4.8, 3.4, 1.9, 0.2]), array([5. , 3. , 1.6, 0.2]), array([5. , 3.4, 1.6, 0.4]), array([5.2, 3.5, 1.5, 0.2]), array([5.2, 3.4, 1.4, 0.2]), array([4.7, 3.2, 1.6, 0.2]), array([4.8, 3.1, 1.6, 0.2]), array([5.4, 3.4, 1.5, 0.4]), array([5.2, 4.1, 1.5, 0.1]), array([5.5, 4.2, 1.4, 0.2]), array([4.9, 3.1, 1.5, 0.1]), array([5. , 3.2, 1.2, 0.2]), array([5.5, 3.5, 1.3, 0.2]), array([4.9, 3.1, 1.5, 0.1]), array([4.4, 3. , 1.3, 0.2]), array([5.1, 3.4, 1.5, 0.2]), array([5. , 3.5, 1.3, 0.3]), array([4.5, 2.3, 1.3, 0.3]), array([4.4, 3.2, 1.3, 0.2]), array([5. , 3.5, 1.6, 0.6]), array([5.1, 3.8, 1.9, 0.4]), array([4.8, 3. , 1.4, 0.3]), array([5.1, 3.8, 1.6, 0.2]), array([4.6, 3.2, 1.4, 0.2]), array([5.3, 3.7, 1.5, 0.2]), array([5. , 3.3, 1.4, 0.2])] \n",
      "\n"
     ]
    }
   ],
   "source": [
    "kmeans = ClusteringKMeans(k=5)\n",
    "clusters = kmeans.clasifica(dataset.datos.iloc[:,:-1])\n",
    "\n",
    "for i in clusters:\n",
    "        print(i, \"\\n\", clusters[i], \"\\n\")\n",
    "\n",
    "colors = ['red', 'blue', 'green', 'yellow', 'pink']\n",
    "for i, color in enumerate(colors):\n",
    "    if clusters[i]:\n",
    "        cluster_data = np.array(clusters[i])\n",
    "        plt.scatter(cluster_data[:, 2], cluster_data[:, 3], c=color, s=50)\n",
    "\n",
    "centroid_data = np.array(kmeans.centroids)\n",
    "plt.scatter(centroid_data[:, 2], centroid_data[:, 3], c='black', s=200, marker='X')\n",
    "plt.show()"
   ]
  }
 ],
 "metadata": {
  "kernelspec": {
   "display_name": "Python 3",
   "language": "python",
   "name": "python3"
  },
  "language_info": {
   "codemirror_mode": {
    "name": "ipython",
    "version": 3
   },
   "file_extension": ".py",
   "mimetype": "text/x-python",
   "name": "python",
   "nbconvert_exporter": "python",
   "pygments_lexer": "ipython3",
   "version": "3.10.12"
  }
 },
 "nbformat": 4,
 "nbformat_minor": 2
}
