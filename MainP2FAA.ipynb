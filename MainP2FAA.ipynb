{
 "cells": [
  {
   "cell_type": "markdown",
   "metadata": {},
   "source": [
    "# Parte I K-NN"
   ]
  },
  {
   "cell_type": "code",
   "execution_count": 1,
   "metadata": {},
   "outputs": [],
   "source": [
    "from Datos import Datos\n",
    "from ClusteringKMeans import ClusteringKMeans, ClusteringKMeansSKLearn\n",
    "import EstrategiaParticionado\n",
    "import Clasificador\n",
    "import numpy as np\n",
    "from tabulate import tabulate\n",
    "%matplotlib inline\n",
    "import matplotlib.pyplot as plt\n",
    "\n"
   ]
  },
  {
   "cell_type": "code",
   "execution_count": null,
   "metadata": {},
   "outputs": [],
   "source": [
    "dataset_1=Datos('./datasets/heart.csv')\n",
    "print(\"NOMINAL ATRIBUTOS HEART\")\n",
    "print(dataset_1.nominalAtributos)\n",
    "print(\"DICCIONARIO HEART\")\n",
    "print (dataset_1.diccionarios)\n",
    "print(\"MATRIZ DE DATOS HEART\")\n",
    "print(dataset_1.datos.head())\n",
    "dataset_1.normalizarDatos()\n",
    "print(dataset_1.datos.head())\n"
   ]
  },
  {
   "cell_type": "code",
   "execution_count": null,
   "metadata": {},
   "outputs": [],
   "source": [
    "estrategia = EstrategiaParticionado.ValidacionSimple(5, 0.2)\n",
    "clasificador = Clasificador.Clasificador()\n",
    "knn = Clasificador.ClasificadorKNN(3)\n",
    "errores1 = clasificador.validacion(estrategia, dataset_1, knn, None)\n",
    "\n",
    "headers = [\"Nº particion\", \"Indice error\"]\n",
    "\n",
    "desviacion_estandar = np.std(errores1)\n",
    "media = sum(errores1) / len(errores1)\n",
    "print(\"Indice de errores por partición:\")\n",
    "table = tabulate(enumerate(errores1, 1), headers, tablefmt=\"grid\")\n",
    "print(table)"
   ]
  },
  {
   "cell_type": "code",
   "execution_count": null,
   "metadata": {},
   "outputs": [],
   "source": [
    "dataset_2=Datos('./datasets/wdbc.csv')\n",
    "print(\"NOMINAL ATRIBUTOS WDBC\")\n",
    "print(dataset_2.nominalAtributos)\n",
    "print(\"DICCIONARIO WDBC\")\n",
    "print (dataset_2.diccionarios)\n",
    "print(\"MATRIZ DE DATOS WDBC\")\n",
    "print(dataset_2.datos.head())"
   ]
  },
  {
   "cell_type": "code",
   "execution_count": null,
   "metadata": {},
   "outputs": [],
   "source": [
    "estrategia = EstrategiaParticionado.ValidacionSimple(5, 0.2)\n",
    "clasificador = Clasificador.Clasificador()\n",
    "knn = Clasificador.ClasificadorKNN(3)\n",
    "errores1 = clasificador.validacion(estrategia, dataset_2, knn, None)\n",
    "\n",
    "headers = [\"Nº particion\", \"Indice error\"]\n",
    "\n",
    "desviacion_estandar = np.std(errores1)\n",
    "media = sum(errores1) / len(errores1)\n",
    "print(\"Indice de errores por partición:\")\n",
    "table = tabulate(enumerate(errores1, 1), headers, tablefmt=\"grid\")\n",
    "print(table)"
   ]
  },
  {
   "cell_type": "markdown",
   "metadata": {},
   "source": [
    "# Parte II - K Means\n",
    "### Requiere instalación de Tkinter (sudo apt install python3-tk)"
   ]
  },
  {
   "cell_type": "code",
   "execution_count": 3,
   "metadata": {},
   "outputs": [],
   "source": [
    "dataset = Datos('./datasets/iris.csv')\n"
   ]
  },
  {
   "cell_type": "code",
   "execution_count": null,
   "metadata": {},
   "outputs": [],
   "source": [
    "kmeans = ClusteringKMeans(k=3)\n",
    "clusters = kmeans.clasifica(dataset.datos.iloc[:,:-1])\n",
    "\n",
    "for i in clusters:\n",
    "        print(i, \"\\n\", clusters[i], \"\\n\")\n",
    "\n",
    "colors = ['red', 'blue', 'green']\n",
    "for i, color in enumerate(colors):\n",
    "    if clusters[i]:\n",
    "        cluster_data = np.array(clusters[i])\n",
    "        plt.scatter(cluster_data[:, 2], cluster_data[:, 3], c=color, s=50)\n",
    "\n",
    "centroid_data = np.array(kmeans.centroids)\n",
    "plt.scatter(centroid_data[:, 2], centroid_data[:, 3], c='black', s=200, marker='X')\n",
    "plt.show()\n"
   ]
  },
  {
   "cell_type": "code",
   "execution_count": null,
   "metadata": {},
   "outputs": [],
   "source": [
    "kmeans = ClusteringKMeans(k=2)\n",
    "clusters = kmeans.clasifica(dataset.datos.iloc[:,:-1])\n",
    "\n",
    "for i in clusters:\n",
    "        print(i, \"\\n\", clusters[i], \"\\n\")\n",
    "\n",
    "colors = ['red', 'blue']\n",
    "for i, color in enumerate(colors):\n",
    "    if clusters[i]:\n",
    "        cluster_data = np.array(clusters[i])\n",
    "        plt.scatter(cluster_data[:, 2], cluster_data[:, 3], c=color, s=50)\n",
    "\n",
    "centroid_data = np.array(kmeans.centroids)\n",
    "plt.scatter(centroid_data[:, 2], centroid_data[:, 3], c='black', s=200, marker='X')\n",
    "plt.show()"
   ]
  },
  {
   "cell_type": "code",
   "execution_count": null,
   "metadata": {},
   "outputs": [],
   "source": [
    "kmeans = ClusteringKMeans(k=4)\n",
    "clusters = kmeans.clasifica(dataset.datos.iloc[:,:-1])\n",
    "\n",
    "for i in clusters:\n",
    "        print(i, \"\\n\", clusters[i], \"\\n\")\n",
    "\n",
    "colors = ['red', 'blue', 'green', 'yellow']\n",
    "for i, color in enumerate(colors):\n",
    "    if clusters[i]:\n",
    "        cluster_data = np.array(clusters[i])\n",
    "        plt.scatter(cluster_data[:, 2], cluster_data[:, 3], c=color, s=50)\n",
    "\n",
    "centroid_data = np.array(kmeans.centroids)\n",
    "plt.scatter(centroid_data[:, 2], centroid_data[:, 3], c='black', s=200, marker='X')\n",
    "plt.show()"
   ]
  },
  {
   "cell_type": "code",
   "execution_count": null,
   "metadata": {},
   "outputs": [],
   "source": [
    "kmeans = ClusteringKMeans(k=5)\n",
    "clusters = kmeans.clasifica(dataset.datos.iloc[:,:-1])\n",
    "\n",
    "for i in clusters:\n",
    "        print(i, \"\\n\", clusters[i], \"\\n\")\n",
    "\n",
    "colors = ['red', 'blue', 'green', 'yellow', 'pink']\n",
    "for i, color in enumerate(colors):\n",
    "    if clusters[i]:\n",
    "        cluster_data = np.array(clusters[i])\n",
    "        plt.scatter(cluster_data[:, 2], cluster_data[:, 3], c=color, s=50)\n",
    "\n",
    "centroid_data = np.array(kmeans.centroids)\n",
    "plt.scatter(centroid_data[:, 2], centroid_data[:, 3], c='black', s=200, marker='X')\n",
    "plt.show()"
   ]
  },
  {
   "cell_type": "markdown",
   "metadata": {},
   "source": [
    "# Parte III - KNN & KMeans (Scikit-learn)"
   ]
  },
  {
   "cell_type": "code",
   "execution_count": null,
   "metadata": {},
   "outputs": [],
   "source": [
    "#KNN SKLearn para dataset \"Hearts\"\n",
    "estrategia = EstrategiaParticionado.ValidacionSimple(5, 0.2)\n",
    "clasificador = Clasificador.Clasificador()\n",
    "knn = Clasificador.ClasificadorKNNSKLearn(3)\n",
    "errores1 = clasificador.validacion(estrategia, dataset_1, knn, None)\n",
    "\n",
    "headers = [\"Nº particion\", \"Indice error\"]\n",
    "\n",
    "desviacion_estandar = np.std(errores1)\n",
    "media = sum(errores1) / len(errores1)\n",
    "print(\"Indice de errores por partición:\")\n",
    "table = tabulate(enumerate(errores1, 1), headers, tablefmt=\"grid\")\n",
    "print(table)"
   ]
  },
  {
   "cell_type": "code",
   "execution_count": null,
   "metadata": {},
   "outputs": [],
   "source": [
    "#KNN SKLearn para dataset \"wdbc\"\n",
    "estrategia = EstrategiaParticionado.ValidacionSimple(5, 0.2)\n",
    "clasificador = Clasificador.Clasificador()\n",
    "knn = Clasificador.ClasificadorKNNSKLearn(3)\n",
    "errores1 = clasificador.validacion(estrategia, dataset_2, knn, None)\n",
    "\n",
    "headers = [\"Nº particion\", \"Indice error\"]\n",
    "\n",
    "desviacion_estandar = np.std(errores1)\n",
    "media = sum(errores1) / len(errores1)\n",
    "print(\"Indice de errores por partición:\")\n",
    "table = tabulate(enumerate(errores1, 1), headers, tablefmt=\"grid\")\n",
    "print(table)"
   ]
  },
  {
   "cell_type": "code",
   "execution_count": 4,
   "metadata": {},
   "outputs": [
    {
     "name": "stdout",
     "output_type": "stream",
     "text": [
      "0 \n",
      " [array([5.1, 3.5, 1.4, 0.2]), array([4.9, 3. , 1.4, 0.2]), array([4.7, 3.2, 1.3, 0.2]), array([4.6, 3.1, 1.5, 0.2]), array([5. , 3.6, 1.4, 0.2]), array([5.4, 3.9, 1.7, 0.4]), array([4.6, 3.4, 1.4, 0.3]), array([5. , 3.4, 1.5, 0.2]), array([4.4, 2.9, 1.4, 0.2]), array([4.9, 3.1, 1.5, 0.1]), array([5.4, 3.7, 1.5, 0.2]), array([4.8, 3.4, 1.6, 0.2]), array([4.8, 3. , 1.4, 0.1]), array([4.3, 3. , 1.1, 0.1]), array([5.8, 4. , 1.2, 0.2]), array([5.7, 4.4, 1.5, 0.4]), array([5.4, 3.9, 1.3, 0.4]), array([5.1, 3.5, 1.4, 0.3]), array([5.7, 3.8, 1.7, 0.3]), array([5.1, 3.8, 1.5, 0.3]), array([5.4, 3.4, 1.7, 0.2]), array([5.1, 3.7, 1.5, 0.4]), array([4.6, 3.6, 1. , 0.2]), array([5.1, 3.3, 1.7, 0.5]), array([4.8, 3.4, 1.9, 0.2]), array([5. , 3. , 1.6, 0.2]), array([5. , 3.4, 1.6, 0.4]), array([5.2, 3.5, 1.5, 0.2]), array([5.2, 3.4, 1.4, 0.2]), array([4.7, 3.2, 1.6, 0.2]), array([4.8, 3.1, 1.6, 0.2]), array([5.4, 3.4, 1.5, 0.4]), array([5.2, 4.1, 1.5, 0.1]), array([5.5, 4.2, 1.4, 0.2]), array([4.9, 3.1, 1.5, 0.1]), array([5. , 3.2, 1.2, 0.2]), array([5.5, 3.5, 1.3, 0.2]), array([4.9, 3.1, 1.5, 0.1]), array([4.4, 3. , 1.3, 0.2]), array([5.1, 3.4, 1.5, 0.2]), array([5. , 3.5, 1.3, 0.3]), array([4.5, 2.3, 1.3, 0.3]), array([4.4, 3.2, 1.3, 0.2]), array([5. , 3.5, 1.6, 0.6]), array([5.1, 3.8, 1.9, 0.4]), array([4.8, 3. , 1.4, 0.3]), array([5.1, 3.8, 1.6, 0.2]), array([4.6, 3.2, 1.4, 0.2]), array([5.3, 3.7, 1.5, 0.2]), array([5. , 3.3, 1.4, 0.2])] \n",
      "\n",
      "1 \n",
      " [array([7. , 3.2, 4.7, 1.4]), array([6.4, 3.2, 4.5, 1.5]), array([5.5, 2.3, 4. , 1.3]), array([6.5, 2.8, 4.6, 1.5]), array([5.7, 2.8, 4.5, 1.3]), array([6.3, 3.3, 4.7, 1.6]), array([4.9, 2.4, 3.3, 1. ]), array([6.6, 2.9, 4.6, 1.3]), array([5.2, 2.7, 3.9, 1.4]), array([5. , 2. , 3.5, 1. ]), array([5.9, 3. , 4.2, 1.5]), array([6. , 2.2, 4. , 1. ]), array([6.1, 2.9, 4.7, 1.4]), array([5.6, 2.9, 3.6, 1.3]), array([6.7, 3.1, 4.4, 1.4]), array([5.6, 3. , 4.5, 1.5]), array([5.8, 2.7, 4.1, 1. ]), array([6.2, 2.2, 4.5, 1.5]), array([5.6, 2.5, 3.9, 1.1]), array([5.9, 3.2, 4.8, 1.8]), array([6.1, 2.8, 4. , 1.3]), array([6.3, 2.5, 4.9, 1.5]), array([6.1, 2.8, 4.7, 1.2]), array([6.4, 2.9, 4.3, 1.3]), array([6.6, 3. , 4.4, 1.4]), array([6.8, 2.8, 4.8, 1.4]), array([6. , 2.9, 4.5, 1.5]), array([5.7, 2.6, 3.5, 1. ]), array([5.5, 2.4, 3.8, 1.1]), array([5.5, 2.4, 3.7, 1. ]), array([5.8, 2.7, 3.9, 1.2]), array([6. , 2.7, 5.1, 1.6]), array([5.4, 3. , 4.5, 1.5]), array([6. , 3.4, 4.5, 1.6]), array([6.7, 3.1, 4.7, 1.5]), array([6.3, 2.3, 4.4, 1.3]), array([5.6, 3. , 4.1, 1.3]), array([5.5, 2.5, 4. , 1.3]), array([5.5, 2.6, 4.4, 1.2]), array([6.1, 3. , 4.6, 1.4]), array([5.8, 2.6, 4. , 1.2]), array([5. , 2.3, 3.3, 1. ]), array([5.6, 2.7, 4.2, 1.3]), array([5.7, 3. , 4.2, 1.2]), array([5.7, 2.9, 4.2, 1.3]), array([6.2, 2.9, 4.3, 1.3]), array([5.1, 2.5, 3. , 1.1]), array([5.7, 2.8, 4.1, 1.3]), array([5.8, 2.7, 5.1, 1.9]), array([4.9, 2.5, 4.5, 1.7]), array([5.7, 2.5, 5. , 2. ]), array([5.8, 2.8, 5.1, 2.4]), array([6. , 2.2, 5. , 1.5]), array([5.6, 2.8, 4.9, 2. ]), array([6.3, 2.7, 4.9, 1.8]), array([6.2, 2.8, 4.8, 1.8]), array([6.1, 3. , 4.9, 1.8]), array([6.3, 2.8, 5.1, 1.5]), array([6. , 3. , 4.8, 1.8]), array([5.8, 2.7, 5.1, 1.9]), array([6.3, 2.5, 5. , 1.9]), array([5.9, 3. , 5.1, 1.8])] \n",
      "\n",
      "2 \n",
      " [array([6.9, 3.1, 4.9, 1.5]), array([6.7, 3. , 5. , 1.7]), array([6.3, 3.3, 6. , 2.5]), array([7.1, 3. , 5.9, 2.1]), array([6.3, 2.9, 5.6, 1.8]), array([6.5, 3. , 5.8, 2.2]), array([7.6, 3. , 6.6, 2.1]), array([7.3, 2.9, 6.3, 1.8]), array([6.7, 2.5, 5.8, 1.8]), array([7.2, 3.6, 6.1, 2.5]), array([6.5, 3.2, 5.1, 2. ]), array([6.4, 2.7, 5.3, 1.9]), array([6.8, 3. , 5.5, 2.1]), array([6.4, 3.2, 5.3, 2.3]), array([6.5, 3. , 5.5, 1.8]), array([7.7, 3.8, 6.7, 2.2]), array([7.7, 2.6, 6.9, 2.3]), array([6.9, 3.2, 5.7, 2.3]), array([7.7, 2.8, 6.7, 2. ]), array([6.7, 3.3, 5.7, 2.1]), array([7.2, 3.2, 6. , 1.8]), array([6.4, 2.8, 5.6, 2.1]), array([7.2, 3. , 5.8, 1.6]), array([7.4, 2.8, 6.1, 1.9]), array([7.9, 3.8, 6.4, 2. ]), array([6.4, 2.8, 5.6, 2.2]), array([6.1, 2.6, 5.6, 1.4]), array([7.7, 3. , 6.1, 2.3]), array([6.3, 3.4, 5.6, 2.4]), array([6.4, 3.1, 5.5, 1.8]), array([6.9, 3.1, 5.4, 2.1]), array([6.7, 3.1, 5.6, 2.4]), array([6.9, 3.1, 5.1, 2.3]), array([6.8, 3.2, 5.9, 2.3]), array([6.7, 3.3, 5.7, 2.5]), array([6.7, 3. , 5.2, 2.3]), array([6.5, 3. , 5.2, 2. ]), array([6.2, 3.4, 5.4, 2.3])] \n",
      "\n"
     ]
    },
    {
     "data": {
      "image/png": "[encoded data removed]",
      "text/plain": [
       "<Figure size 640x480 with 1 Axes>"
      ]
     },
     "metadata": {},
     "output_type": "display_data"
    }
   ],
   "source": [
    "kmeans = ClusteringKMeansSKLearn(k=3)\n",
    "clusters = kmeans.clasifica(dataset.datos.iloc[:,:-1])\n",
    "\n",
    "for i in clusters:\n",
    "        print(i, \"\\n\", clusters[i], \"\\n\")\n",
    "\n",
    "colors = ['red', 'blue', 'green']\n",
    "for i, color in enumerate(colors):\n",
    "    if clusters[i]:\n",
    "        cluster_data = np.array(clusters[i])\n",
    "        plt.scatter(cluster_data[:, 2], cluster_data[:, 3], c=color, s=50)\n",
    "\n",
    "centroid_data = np.array(kmeans.centroids)\n",
    "plt.scatter(centroid_data[:, 2], centroid_data[:, 3], c='black', s=200, marker='X')\n",
    "plt.show()"
   ]
  }
 ],
 "metadata": {
  "kernelspec": {
   "display_name": "Python 3",
   "language": "python",
   "name": "python3"
  },
  "language_info": {
   "codemirror_mode": {
    "name": "ipython",
    "version": 3
   },
   "file_extension": ".py",
   "mimetype": "text/x-python",
   "name": "python",
   "nbconvert_exporter": "python",
   "pygments_lexer": "ipython3",
   "version": "3.10.12"
  }
 },
 "nbformat": 4,
 "nbformat_minor": 2
}
