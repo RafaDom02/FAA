{
 "cells": [
  {
   "cell_type": "markdown",
   "metadata": {},
   "source": [
    "# Parte I K-NN"
   ]
  },
  {
   "cell_type": "code",
   "execution_count": 1,
   "metadata": {},
   "outputs": [],
   "source": [
    "from Datos import Datos\n",
    "import EstrategiaParticionado\n",
    "import Clasificador\n",
    "import numpy as np\n",
    "from tabulate import tabulate"
   ]
  },
  {
   "cell_type": "code",
   "execution_count": 2,
   "metadata": {},
   "outputs": [
    {
     "name": "stdout",
     "output_type": "stream",
     "text": [
      "NOMINAL ATRIBUTOS HEART\n",
      "[False, True, True, False, False, False, True, False, True, False, True, True]\n",
      "DICCIONARIO HEART\n",
      "{'Age': {}, 'Sex': {'F': 0, 'M': 1}, 'ChestPainType': {'ASY': 0, 'ATA': 1, 'NAP': 2, 'TA': 3}, 'RestingBP': {}, 'Cholesterol': {}, 'FastingBS': {}, 'RestingECG': {'LVH': 0, 'Normal': 1, 'ST': 2}, 'MaxHR': {}, 'ExerciseAngina': {'N': 0, 'Y': 1}, 'Oldpeak': {}, 'ST_Slope': {'Down': 0, 'Flat': 1, 'Up': 2}, 'Class': {'0': 0, '1': 1}}\n",
      "MATRIZ DE DATOS HEART\n",
      "    Age  Sex  ChestPainType  RestingBP  Cholesterol  FastingBS  RestingECG  \\\n",
      "0  40.0  1.0            1.0      140.0        289.0        0.0         1.0   \n",
      "1  49.0  0.0            2.0      160.0        180.0        0.0         1.0   \n",
      "2  37.0  1.0            1.0      130.0        283.0        0.0         2.0   \n",
      "3  48.0  0.0            0.0      138.0        214.0        0.0         1.0   \n",
      "4  54.0  1.0            2.0      150.0        195.0        0.0         1.0   \n",
      "\n",
      "   MaxHR  ExerciseAngina  Oldpeak  ST_Slope  Class  \n",
      "0  172.0             0.0      0.0       2.0    0.0  \n",
      "1  156.0             0.0      1.0       1.0    1.0  \n",
      "2   98.0             0.0      0.0       2.0    0.0  \n",
      "3  108.0             1.0      1.5       1.0    1.0  \n",
      "4  122.0             0.0      0.0       2.0    0.0  \n",
      "        Age  Sex  ChestPainType  RestingBP  Cholesterol  FastingBS  \\\n",
      "0 -1.432359  1.0            1.0   0.410685     0.824621  -0.551041   \n",
      "1 -0.478223  0.0            2.0   1.490940    -0.171867  -0.551041   \n",
      "2 -1.750404  1.0            1.0  -0.129442     0.769768  -0.551041   \n",
      "3 -0.584238  0.0            0.0   0.302660     0.138964  -0.551041   \n",
      "4  0.051853  1.0            2.0   0.950812    -0.034736  -0.551041   \n",
      "\n",
      "   RestingECG     MaxHR  ExerciseAngina   Oldpeak  ST_Slope  Class  \n",
      "0         1.0  1.382175             0.0 -0.831979       2.0    0.0  \n",
      "1         1.0  0.753746             0.0  0.105606       1.0    1.0  \n",
      "2         2.0 -1.524307             0.0 -0.831979       2.0    0.0  \n",
      "3         1.0 -1.131539             1.0  0.574398       1.0    1.0  \n",
      "4         1.0 -0.581664             0.0 -0.831979       2.0    0.0  \n"
     ]
    },
    {
     "name": "stderr",
     "output_type": "stream",
     "text": [
      "/home/pablos/Desktop/Asignaturas/AAUTO/Practicas/FAA/Datos.py:100: FutureWarning: Series.__getitem__ treating keys as positions is deprecated. In a future version, integer keys will always be treated as labels (consistent with DataFrame behavior). To access a value by position, use `ser.iloc[pos]`\n",
      "  self.datos.iloc[:,idx] = (self.datos.iloc[:,idx] - medias[idx]) / desv_tipicas[idx]\n"
     ]
    }
   ],
   "source": [
    "dataset_1=Datos('./datasets/heart.csv')\n",
    "print(\"NOMINAL ATRIBUTOS HEART\")\n",
    "print(dataset_1.nominalAtributos)\n",
    "print(\"DICCIONARIO HEART\")\n",
    "print (dataset_1.diccionarios)\n",
    "print(\"MATRIZ DE DATOS HEART\")\n",
    "print(dataset_1.datos.head())\n",
    "dataset_1.normalizarDatos()\n",
    "print(dataset_1.datos.head())\n"
   ]
  },
  {
   "cell_type": "code",
   "execution_count": 3,
   "metadata": {},
   "outputs": [
    {
     "name": "stdout",
     "output_type": "stream",
     "text": [
      "Numero de particiones realizadas: 5\n",
      "Indice de errores por partición:\n",
      "+----------------+----------------+\n",
      "|   Nº particion |   Indice error |\n",
      "+================+================+\n",
      "|              1 |       0.184783 |\n",
      "+----------------+----------------+\n",
      "|              2 |       0.190217 |\n",
      "+----------------+----------------+\n",
      "|              3 |       0.173913 |\n",
      "+----------------+----------------+\n",
      "|              4 |       0.179348 |\n",
      "+----------------+----------------+\n",
      "|              5 |       0.146739 |\n",
      "+----------------+----------------+\n"
     ]
    }
   ],
   "source": [
    "estrategia = EstrategiaParticionado.ValidacionSimple(5, 0.2)\n",
    "clasificador = Clasificador.Clasificador()\n",
    "knn = Clasificador.ClasificadorKNN(3)\n",
    "errores1 = clasificador.validacion(estrategia, dataset_1, knn, None)\n",
    "\n",
    "headers = [\"Nº particion\", \"Indice error\"]\n",
    "\n",
    "desviacion_estandar = np.std(errores1)\n",
    "media = sum(errores1) / len(errores1)\n",
    "print(\"Indice de errores por partición:\")\n",
    "table = tabulate(enumerate(errores1, 1), headers, tablefmt=\"grid\")\n",
    "print(table)"
   ]
  },
  {
   "cell_type": "code",
   "execution_count": null,
   "metadata": {},
   "outputs": [],
   "source": []
  },
  {
   "cell_type": "code",
   "execution_count": 4,
   "metadata": {},
   "outputs": [
    {
     "name": "stdout",
     "output_type": "stream",
     "text": [
      "NOMINAL ATRIBUTOS WDBC\n",
      "[False, True, True, False, False, False, True, False, True, False, True, True]\n",
      "DICCIONARIO WDBC\n",
      "{'Age': {}, 'Sex': {'F': 0, 'M': 1}, 'ChestPainType': {'ASY': 0, 'ATA': 1, 'NAP': 2, 'TA': 3}, 'RestingBP': {}, 'Cholesterol': {}, 'FastingBS': {}, 'RestingECG': {'LVH': 0, 'Normal': 1, 'ST': 2}, 'MaxHR': {}, 'ExerciseAngina': {'N': 0, 'Y': 1}, 'Oldpeak': {}, 'ST_Slope': {'Down': 0, 'Flat': 1, 'Up': 2}, 'Class': {'0': 0, '1': 1}}\n",
      "MATRIZ DE DATOS WDBC\n",
      "        Age  Sex  ChestPainType  RestingBP  Cholesterol  FastingBS  \\\n",
      "0 -1.432359  1.0            1.0   0.410685     0.824621  -0.551041   \n",
      "1 -0.478223  0.0            2.0   1.490940    -0.171867  -0.551041   \n",
      "2 -1.750404  1.0            1.0  -0.129442     0.769768  -0.551041   \n",
      "3 -0.584238  0.0            0.0   0.302660     0.138964  -0.551041   \n",
      "4  0.051853  1.0            2.0   0.950812    -0.034736  -0.551041   \n",
      "\n",
      "   RestingECG     MaxHR  ExerciseAngina   Oldpeak  ST_Slope  Class  \n",
      "0         1.0  1.382175             0.0 -0.831979       2.0    0.0  \n",
      "1         1.0  0.753746             0.0  0.105606       1.0    1.0  \n",
      "2         2.0 -1.524307             0.0 -0.831979       2.0    0.0  \n",
      "3         1.0 -1.131539             1.0  0.574398       1.0    1.0  \n",
      "4         1.0 -0.581664             0.0 -0.831979       2.0    0.0  \n"
     ]
    }
   ],
   "source": [
    "dataset_2=Datos('./datasets/wdbc.csv')\n",
    "print(\"NOMINAL ATRIBUTOS WDBC\")\n",
    "print(dataset_1.nominalAtributos)\n",
    "print(\"DICCIONARIO WDBC\")\n",
    "print (dataset_1.diccionarios)\n",
    "print(\"MATRIZ DE DATOS WDBC\")\n",
    "print(dataset_1.datos.head())"
   ]
  },
  {
   "cell_type": "code",
   "execution_count": null,
   "metadata": {},
   "outputs": [],
   "source": []
  }
 ],
 "metadata": {
  "kernelspec": {
   "display_name": "Python 3",
   "language": "python",
   "name": "python3"
  },
  "language_info": {
   "codemirror_mode": {
    "name": "ipython",
    "version": 3
   },
   "file_extension": ".py",
   "mimetype": "text/x-python",
   "name": "python",
   "nbconvert_exporter": "python",
   "pygments_lexer": "ipython3",
   "version": "3.10.12"
  }
 },
 "nbformat": 4,
 "nbformat_minor": 2
}
