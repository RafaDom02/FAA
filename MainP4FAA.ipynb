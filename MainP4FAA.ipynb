{
 "cells": [
  {
   "cell_type": "code",
   "execution_count": null,
   "metadata": {},
   "outputs": [],
   "source": [
    "from ClasificadorGenetico import ClasificadorGenetico\n",
    "from Clasificador import Clasificador\n",
    "from Datos import Datos\n",
    "import EstrategiaParticionado\n",
    "\n",
    "clasificador = Clasificador()"
   ]
  },
  {
   "cell_type": "code",
   "execution_count": null,
   "metadata": {},
   "outputs": [],
   "source": [
    "dataset_1=Datos('./datasets/titanic.csv')\n",
    "print(\"DICCIONARIO TITANIC\")\n",
    "print (dataset_1.diccionarios)\n",
    "for key in dataset_1.diccionarios.keys():\n",
    "    print(dataset_1.diccionarios[key].keys())\n",
    "print(\"MATRIZ DE DATOS HEART\")\n",
    "print(dataset_1.datos)"
   ]
  },
  {
   "cell_type": "code",
   "execution_count": null,
   "metadata": {},
   "outputs": [],
   "source": [
    "estrategia = EstrategiaParticionado.ValidacionSimple(5, 0.2)\n",
    "clasificador = Clasificador()\n",
    "\n",
    "cg = ClasificadorGenetico(numRules=2,math_related_prediction=True)\n",
    "errores1 = clasificador.validacion(estrategia, dataset_1, cg, None)\n",
    "media = sum(errores1) / len(errores1)\n",
    "print(\"Media de errores: \" + str(media))"
   ]
  }
 ],
 "metadata": {
  "kernelspec": {
   "display_name": "Python 3",
   "language": "python",
   "name": "python3"
  },
  "language_info": {
   "codemirror_mode": {
    "name": "ipython",
    "version": 3
   },
   "file_extension": ".py",
   "mimetype": "text/x-python",
   "name": "python",
   "nbconvert_exporter": "python",
   "pygments_lexer": "ipython3",
   "version": "3.10.12"
  }
 },
 "nbformat": 4,
 "nbformat_minor": 2
}
