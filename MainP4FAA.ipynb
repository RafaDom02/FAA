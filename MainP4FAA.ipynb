{
 "cells": [
  {
   "cell_type": "code",
   "execution_count": 1,
   "metadata": {},
   "outputs": [],
   "source": [
    "from ClasificadorGenetico import ClasificadorGenetico\n",
    "from Clasificador import Clasificador\n",
    "from Datos import Datos\n",
    "import EstrategiaParticionado\n",
    "\n",
    "clasificador = Clasificador()"
   ]
  },
  {
   "cell_type": "code",
   "execution_count": 2,
   "metadata": {},
   "outputs": [
    {
     "name": "stdout",
     "output_type": "stream",
     "text": [
      "DICCIONARIO TITANIC\n",
      "{'Pclass': {1: 1, 2: 2, 3: 3}, 'Sex': {'female': 0, 'male': 1}, 'Age': {0: 0, 1: 1, 2: 2, 3: 3, 4: 4, 5: 5, 6: 6, 7: 7, 8: 8, 9: 9, 10: 10, 11: 11, 12: 12, 13: 13, 14: 14, 15: 15}, 'Class': {'0': 0, '1': 1}}\n",
      "dict_keys([1, 2, 3])\n",
      "dict_keys(['female', 'male'])\n",
      "dict_keys([0, 1, 2, 3, 4, 5, 6, 7, 8, 9, 10, 11, 12, 13, 14, 15])\n",
      "dict_keys(['0', '1'])\n",
      "MATRIZ DE DATOS HEART\n",
      "      Pclass  Sex  Age  Class\n",
      "0        2.0  1.0  3.0    1.0\n",
      "1        2.0  1.0  6.0    1.0\n",
      "2        3.0  0.0  4.0    0.0\n",
      "3        3.0  0.0  0.0    0.0\n",
      "4        1.0  1.0  9.0    1.0\n",
      "...      ...  ...  ...    ...\n",
      "1041     3.0  1.0  3.0    0.0\n",
      "1042     3.0  1.0  8.0    0.0\n",
      "1043     3.0  0.0  4.0    1.0\n",
      "1044     3.0  1.0  4.0    0.0\n",
      "1045     2.0  1.0  3.0    0.0\n",
      "\n",
      "[1046 rows x 4 columns]\n"
     ]
    }
   ],
   "source": [
    "dataset_1=Datos('./datasets/xor.csv')\n",
    "print(\"DICCIONARIO TITANIC\")\n",
    "print (dataset_1.diccionarios)\n",
    "for key in dataset_1.diccionarios.keys():\n",
    "    print(dataset_1.diccionarios[key].keys())\n",
    "print(\"MATRIZ DE DATOS TITANIC\")\n",
    "print(dataset_1.datos)"
   ]
  },
  {
   "cell_type": "code",
   "execution_count": 3,
   "metadata": {},
   "outputs": [
    {
     "name": "stdout",
     "output_type": "stream",
     "text": [
      "DICCIONARIO tic-tac-toe\n",
      "{'TLeftSq': {'b': 0, 'o': 1, 'x': 2}, 'TMidSq': {'b': 0, 'o': 1, 'x': 2}, 'TRightSq': {'b': 0, 'o': 1, 'x': 2}, 'MLeftSq': {'b': 0, 'o': 1, 'x': 2}, 'MMidSq': {'b': 0, 'o': 1, 'x': 2}, 'MRightSq': {'b': 0, 'o': 1, 'x': 2}, 'BLeftSq': {'b': 0, 'o': 1, 'x': 2}, 'BMidSq': {'b': 0, 'o': 1, 'x': 2}, 'BRightSq': {'b': 0, 'o': 1, 'x': 2}, 'Class': {'negative': 0, 'positive': 1}}\n",
      "dict_keys(['b', 'o', 'x'])\n",
      "dict_keys(['b', 'o', 'x'])\n",
      "dict_keys(['b', 'o', 'x'])\n",
      "dict_keys(['b', 'o', 'x'])\n",
      "dict_keys(['b', 'o', 'x'])\n",
      "dict_keys(['b', 'o', 'x'])\n",
      "dict_keys(['b', 'o', 'x'])\n",
      "dict_keys(['b', 'o', 'x'])\n",
      "dict_keys(['b', 'o', 'x'])\n",
      "dict_keys(['negative', 'positive'])\n",
      "MATRIZ DE DATOS tic-tac-toe\n",
      "     TLeftSq  TMidSq  TRightSq  MLeftSq  MMidSq  MRightSq  BLeftSq  BMidSq  \\\n",
      "0        2.0     2.0       2.0      2.0     1.0       1.0      2.0     1.0   \n",
      "1        2.0     2.0       2.0      2.0     1.0       1.0      1.0     2.0   \n",
      "2        2.0     2.0       2.0      2.0     1.0       1.0      1.0     1.0   \n",
      "3        2.0     2.0       2.0      2.0     1.0       1.0      1.0     0.0   \n",
      "4        2.0     2.0       2.0      2.0     1.0       1.0      0.0     1.0   \n",
      "..       ...     ...       ...      ...     ...       ...      ...     ...   \n",
      "953      1.0     2.0       2.0      2.0     1.0       1.0      1.0     2.0   \n",
      "954      1.0     2.0       1.0      2.0     2.0       1.0      2.0     1.0   \n",
      "955      1.0     2.0       1.0      2.0     1.0       2.0      2.0     1.0   \n",
      "956      1.0     2.0       1.0      1.0     2.0       2.0      2.0     1.0   \n",
      "957      1.0     1.0       2.0      2.0     2.0       1.0      1.0     2.0   \n",
      "\n",
      "     BRightSq  Class  \n",
      "0         1.0    1.0  \n",
      "1         1.0    1.0  \n",
      "2         2.0    1.0  \n",
      "3         0.0    1.0  \n",
      "4         0.0    1.0  \n",
      "..        ...    ...  \n",
      "953       2.0    0.0  \n",
      "954       2.0    0.0  \n",
      "955       2.0    0.0  \n",
      "956       2.0    0.0  \n",
      "957       2.0    0.0  \n",
      "\n",
      "[958 rows x 10 columns]\n"
     ]
    }
   ],
   "source": [
    "dataset_2=Datos('./datasets/tic-tac-toe.csv')\n",
    "print(\"DICCIONARIO tic-tac-toe\")\n",
    "print (dataset_2.diccionarios)\n",
    "for key in dataset_2.diccionarios.keys():\n",
    "    print(dataset_2.diccionarios[key].keys())\n",
    "print(\"MATRIZ DE DATOS tic-tac-toe\")\n",
    "print(dataset_2.datos)"
   ]
  },
  {
   "cell_type": "code",
   "execution_count": 4,
   "metadata": {},
   "outputs": [
    {
     "name": "stdout",
     "output_type": "stream",
     "text": [
      "DICCIONARIO tic-tac-toe\n",
      "{'TLeftSq': {'b': 0, 'o': 1, 'x': 2}, 'TMidSq': {'b': 0, 'o': 1, 'x': 2}, 'TRightSq': {'b': 0, 'o': 1, 'x': 2}, 'MLeftSq': {'b': 0, 'o': 1, 'x': 2}, 'MMidSq': {'b': 0, 'o': 1, 'x': 2}, 'MRightSq': {'b': 0, 'o': 1, 'x': 2}, 'BLeftSq': {'b': 0, 'o': 1, 'x': 2}, 'BMidSq': {'b': 0, 'o': 1, 'x': 2}, 'BRightSq': {'b': 0, 'o': 1, 'x': 2}, 'Class': {'negative': 0, 'positive': 1}}\n",
      "dict_keys(['b', 'o', 'x'])\n",
      "dict_keys(['b', 'o', 'x'])\n",
      "dict_keys(['b', 'o', 'x'])\n",
      "dict_keys(['b', 'o', 'x'])\n",
      "dict_keys(['b', 'o', 'x'])\n",
      "dict_keys(['b', 'o', 'x'])\n",
      "dict_keys(['b', 'o', 'x'])\n",
      "dict_keys(['b', 'o', 'x'])\n",
      "dict_keys(['b', 'o', 'x'])\n",
      "dict_keys(['negative', 'positive'])\n",
      "MATRIZ DE DATOS tic-tac-toe\n",
      "     TLeftSq  TMidSq  TRightSq  MLeftSq  MMidSq  MRightSq  BLeftSq  BMidSq  \\\n",
      "0        2.0     2.0       2.0      2.0     1.0       1.0      2.0     1.0   \n",
      "1        2.0     2.0       2.0      2.0     1.0       1.0      1.0     2.0   \n",
      "2        2.0     2.0       2.0      2.0     1.0       1.0      1.0     1.0   \n",
      "3        2.0     2.0       2.0      2.0     1.0       1.0      1.0     0.0   \n",
      "4        2.0     2.0       2.0      2.0     1.0       1.0      0.0     1.0   \n",
      "..       ...     ...       ...      ...     ...       ...      ...     ...   \n",
      "953      1.0     2.0       2.0      2.0     1.0       1.0      1.0     2.0   \n",
      "954      1.0     2.0       1.0      2.0     2.0       1.0      2.0     1.0   \n",
      "955      1.0     2.0       1.0      2.0     1.0       2.0      2.0     1.0   \n",
      "956      1.0     2.0       1.0      1.0     2.0       2.0      2.0     1.0   \n",
      "957      1.0     1.0       2.0      2.0     2.0       1.0      1.0     2.0   \n",
      "\n",
      "     BRightSq  Class  \n",
      "0         1.0    1.0  \n",
      "1         1.0    1.0  \n",
      "2         2.0    1.0  \n",
      "3         0.0    1.0  \n",
      "4         0.0    1.0  \n",
      "..        ...    ...  \n",
      "953       2.0    0.0  \n",
      "954       2.0    0.0  \n",
      "955       2.0    0.0  \n",
      "956       2.0    0.0  \n",
      "957       2.0    0.0  \n",
      "\n",
      "[958 rows x 10 columns]\n"
     ]
    }
   ],
   "source": [
    "dataset_2=Datos('./datasets/xor.csv')\n",
    "print(\"DICCIONARIO tic-tac-toe\")\n",
    "print (dataset_2.diccionarios)\n",
    "for key in dataset_2.diccionarios.keys():\n",
    "    print(dataset_2.diccionarios[key].keys())\n",
    "print(\"MATRIZ DE DATOS tic-tac-toe\")\n",
    "print(dataset_2.datos)"
   ]
  },
  {
   "cell_type": "code",
   "execution_count": 5,
   "metadata": {},
   "outputs": [
    {
     "name": "stdout",
     "output_type": "stream",
     "text": [
      "[[[0, 1, 0, 1, 0, 0, 0, 0, 0, 0, 1, 0, 0, 0, 0, 0, 0, 0, 0, 0, 0, 1, 0], [0, 1, 0, 1, 0, 1, 0, 0, 0, 0, 0, 0, 0, 0, 0, 0, 0, 0, 0, 0, 0, 1, 0], [1, 0, 0, 1, 0, 0, 0, 1, 0, 0, 0, 0, 0, 0, 0, 0, 0, 0, 0, 0, 0, 1, 0], [1, 0, 0, 0, 1, 0, 0, 0, 0, 0, 0, 0, 0, 0, 0, 0, 0, 0, 0, 1, 0, 0, 1], [1, 0, 0, 1, 0, 1, 0, 0, 0, 0, 0, 0, 0, 0, 0, 0, 0, 0, 0, 0, 0, 0, 1]]] 0.7777777777777778\n",
      "[[[0, 1, 0, 1, 0, 0, 0, 1, 0, 0, 0, 0, 0, 0, 0, 0, 0, 0, 0, 0, 0, 0, 1], [1, 0, 0, 1, 0, 0, 1, 0, 0, 0, 0, 0, 0, 0, 0, 0, 0, 0, 0, 0, 0, 1, 0], [1, 0, 0, 0, 1, 0, 0, 0, 0, 0, 0, 0, 1, 0, 0, 0, 0, 0, 0, 0, 0, 0, 1], [1, 0, 0, 0, 1, 0, 0, 0, 1, 0, 0, 0, 0, 0, 0, 0, 0, 0, 0, 0, 0, 0, 1], [0, 1, 0, 1, 0, 0, 0, 0, 0, 0, 0, 0, 0, 0, 0, 0, 0, 0, 0, 1, 0, 1, 0]]] 0.7694145758661888\n",
      "[[[1, 0, 0, 0, 1, 0, 0, 0, 0, 0, 0, 0, 0, 0, 0, 0, 0, 0, 0, 0, 1, 0, 1], [1, 0, 0, 1, 0, 0, 0, 0, 0, 0, 0, 0, 0, 0, 0, 0, 0, 0, 1, 0, 0, 1, 0], [0, 1, 0, 1, 0, 0, 0, 0, 0, 0, 0, 0, 0, 0, 0, 1, 0, 0, 0, 0, 0, 1, 0], [0, 0, 1, 1, 0, 0, 0, 0, 0, 0, 0, 0, 0, 0, 0, 0, 1, 0, 0, 0, 0, 1, 0]]] 0.7741935483870968\n",
      "[[[1, 0, 0, 0, 1, 0, 0, 0, 0, 0, 0, 0, 0, 0, 0, 0, 0, 0, 0, 1, 0, 0, 1], [0, 0, 1, 1, 0, 0, 0, 1, 0, 0, 0, 0, 0, 0, 0, 0, 0, 0, 0, 0, 0, 1, 0], [1, 0, 0, 1, 0, 0, 0, 0, 1, 0, 0, 0, 0, 0, 0, 0, 0, 0, 0, 0, 0, 1, 0], [0, 1, 0, 0, 1, 0, 0, 0, 0, 0, 1, 0, 0, 0, 0, 0, 0, 0, 0, 0, 0, 0, 1], [0, 1, 0, 1, 0, 0, 0, 0, 0, 0, 0, 0, 0, 0, 0, 0, 1, 0, 0, 0, 0, 1, 0]]] 0.7789725209080047\n",
      "[[[0, 1, 0, 0, 1, 0, 0, 0, 0, 0, 0, 0, 0, 0, 0, 0, 0, 1, 0, 0, 0, 0, 1], [0, 1, 0, 1, 0, 0, 0, 0, 0, 0, 0, 0, 0, 0, 0, 0, 0, 0, 0, 0, 1, 1, 0], [0, 0, 1, 0, 1, 0, 0, 0, 0, 0, 0, 0, 0, 0, 0, 0, 0, 0, 0, 1, 0, 0, 1], [1, 0, 0, 1, 0, 0, 0, 1, 0, 0, 0, 0, 0, 0, 0, 0, 0, 0, 0, 0, 0, 1, 0]]] 0.7729988052568698\n",
      "Media de errores: 0.2019138755980861\n",
      "Media de errores: 0.2019138755980861\n"
     ]
    }
   ],
   "source": [
    "estrategia = EstrategiaParticionado.ValidacionSimple(5, 0.2)\n",
    "clasificador = Clasificador()\n",
    "\n",
    "cg = ClasificadorGenetico(numRules=5,math_related_prediction=True)\n",
    "errores1 = clasificador.validacion(estrategia, dataset_1, cg, None)\n",
    "media = sum(errores1) / len(errores1)\n",
    "print(\"Media de errores: \" + str(media))\n",
    "print(\"Media de errores: \" + str(media))"
   ]
  }
 ],
 "metadata": {
  "kernelspec": {
   "display_name": "Python 3",
   "language": "python",
   "name": "python3"
  },
  "language_info": {
   "codemirror_mode": {
    "name": "ipython",
    "version": 3
   },
   "file_extension": ".py",
   "mimetype": "text/x-python",
   "name": "python",
   "nbconvert_exporter": "python",
   "pygments_lexer": "ipython3",
   "version": "3.10.12"
  }
 },
 "nbformat": 4,
 "nbformat_minor": 2
}
