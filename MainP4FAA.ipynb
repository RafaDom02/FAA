{
 "cells": [
  {
   "cell_type": "code",
   "execution_count": 4,
   "metadata": {},
   "outputs": [],
   "source": [
    "from ClasificadorGenetico import ClasificadorGenetico\n",
    "from Clasificador import Clasificador\n",
    "from Datos import Datos\n",
    "import EstrategiaParticionado\n",
    "\n",
    "clasificador = Clasificador()"
   ]
  },
  {
   "cell_type": "code",
   "execution_count": 5,
   "metadata": {},
   "outputs": [
    {
     "name": "stdout",
     "output_type": "stream",
     "text": [
      "DICCIONARIO TITANIC\n",
      "{'X1': {'+': 0, '-': 1}, 'X2': {'+': 0, '-': 1}, 'Class': {'+': 0, '-': 1}}\n",
      "dict_keys(['+', '-'])\n",
      "dict_keys(['+', '-'])\n",
      "dict_keys(['+', '-'])\n",
      "MATRIZ DE DATOS HEART\n",
      "      X1   X2  Class\n",
      "0    0.0  0.0    1.0\n",
      "1    1.0  1.0    1.0\n",
      "2    1.0  0.0    0.0\n",
      "3    0.0  1.0    0.0\n",
      "4    0.0  0.0    1.0\n",
      "..   ...  ...    ...\n",
      "395  1.0  1.0    1.0\n",
      "396  0.0  0.0    1.0\n",
      "397  0.0  0.0    1.0\n",
      "398  1.0  0.0    0.0\n",
      "399  0.0  0.0    1.0\n",
      "\n",
      "[400 rows x 3 columns]\n"
     ]
    }
   ],
   "source": [
    "dataset_1=Datos('./datasets/xor.csv')\n",
    "print(\"DICCIONARIO TITANIC\")\n",
    "print (dataset_1.diccionarios)\n",
    "for key in dataset_1.diccionarios.keys():\n",
    "    print(dataset_1.diccionarios[key].keys())\n",
    "print(\"MATRIZ DE DATOS HEART\")\n",
    "print(dataset_1.datos)"
   ]
  },
  {
   "cell_type": "code",
   "execution_count": 6,
   "metadata": {},
   "outputs": [
    {
     "name": "stdout",
     "output_type": "stream",
     "text": [
      "[[[1, 0, 1, 0, 1, 0], [1, 0, 0, 1, 0, 1], [0, 1, 0, 1, 1, 0], [0, 1, 1, 0, 0, 1]], [[1, 0, 1, 0, 1, 0], [0, 1, 1, 0, 0, 1], [1, 0, 0, 1, 0, 1], [0, 1, 0, 1, 1, 0]], [[1, 0, 1, 0, 1, 0], [1, 0, 0, 1, 0, 1], [0, 1, 1, 0, 0, 1], [0, 1, 0, 1, 1, 0]]]\n",
      "[[[1, 0, 0, 1, 0, 1], [1, 0, 1, 0, 1, 0], [0, 1, 1, 0, 0, 1], [0, 1, 1, 0, 0, 1], [0, 1, 0, 1, 1, 0]], [[1, 0, 0, 1, 0, 1], [1, 0, 1, 0, 1, 0], [0, 1, 1, 0, 0, 1], [0, 1, 1, 0, 0, 1], [0, 1, 0, 1, 1, 0]], [[1, 0, 0, 1, 0, 1], [1, 0, 1, 0, 1, 0], [0, 1, 1, 0, 0, 1], [0, 1, 1, 0, 0, 1], [0, 1, 0, 1, 1, 0]]]\n",
      "[[[1, 0, 1, 0, 1, 0], [0, 1, 1, 0, 0, 1], [1, 0, 0, 1, 0, 1], [0, 1, 0, 1, 1, 0], [0, 1, 0, 1, 0, 1]], [[1, 0, 1, 0, 1, 0], [0, 1, 1, 0, 0, 1], [1, 0, 0, 1, 0, 1], [0, 1, 0, 1, 1, 0], [1, 0, 1, 0, 1, 0]], [[1, 0, 1, 0, 1, 0], [0, 1, 1, 0, 0, 1], [1, 0, 0, 1, 0, 1], [0, 1, 0, 1, 1, 0], [1, 0, 1, 0, 0, 1]]]\n",
      "[[[0, 1, 1, 0, 0, 1], [0, 1, 0, 1, 1, 0], [1, 0, 1, 0, 1, 0], [1, 0, 0, 1, 0, 1]], [[0, 1, 0, 1, 1, 0], [1, 0, 1, 0, 1, 0], [1, 0, 0, 1, 0, 1], [0, 1, 1, 0, 0, 1], [1, 0, 0, 1, 0, 1]], [[0, 1, 1, 0, 0, 1], [0, 1, 0, 1, 1, 0], [1, 0, 1, 0, 1, 0], [1, 0, 0, 1, 0, 1]]]\n",
      "[[[1, 0, 0, 1, 0, 1], [1, 0, 1, 0, 1, 0], [0, 1, 0, 1, 0, 1], [0, 1, 1, 0, 0, 1], [0, 1, 0, 1, 1, 0]], [[1, 0, 0, 1, 0, 1], [1, 0, 1, 0, 1, 0], [0, 1, 0, 1, 0, 1], [0, 1, 1, 0, 0, 1], [0, 1, 0, 1, 1, 0]], [[1, 0, 0, 1, 0, 1], [1, 0, 1, 0, 1, 0], [0, 1, 0, 1, 0, 1], [0, 1, 1, 0, 0, 1], [0, 1, 0, 1, 1, 0]]]\n",
      "Media de errores: 0.42000000000000004\n"
     ]
    }
   ],
   "source": [
    "estrategia = EstrategiaParticionado.ValidacionSimple(5, 0.2)\n",
    "clasificador = Clasificador()\n",
    "\n",
    "cg = ClasificadorGenetico(math_related_prediction=False)\n",
    "errores1 = clasificador.validacion(estrategia, dataset_1, cg, None)\n",
    "media = sum(errores1) / len(errores1)\n",
    "print(\"Media de errores: \" + str(media))"
   ]
  }
 ],
 "metadata": {
  "kernelspec": {
   "display_name": "Python 3",
   "language": "python",
   "name": "python3"
  },
  "language_info": {
   "codemirror_mode": {
    "name": "ipython",
    "version": 3
   },
   "file_extension": ".py",
   "mimetype": "text/x-python",
   "name": "python",
   "nbconvert_exporter": "python",
   "pygments_lexer": "ipython3",
   "version": "3.10.12"
  }
 },
 "nbformat": 4,
 "nbformat_minor": 2
}
