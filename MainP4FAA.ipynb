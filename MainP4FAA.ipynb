{
 "cells": [
  {
   "cell_type": "code",
   "execution_count": 1,
   "metadata": {},
   "outputs": [],
   "source": [
    "from ClasificadorGenetico import ClasificadorGenetico\n",
    "from Clasificador import Clasificador\n",
    "from Datos import Datos\n",
    "import EstrategiaParticionado\n",
    "\n",
    "clasificador = Clasificador()"
   ]
  },
  {
   "cell_type": "code",
   "execution_count": 2,
   "metadata": {},
   "outputs": [
    {
     "name": "stdout",
     "output_type": "stream",
     "text": [
      "NOMINAL ATRIBUTOS HEART\n",
      "[True, True, True]\n",
      "DICCIONARIO TITANIC\n",
      "{'X1': {'+': 0, '-': 1}, 'X2': {'+': 0, '-': 1}, 'Class': {'+': 0, '-': 1}}\n",
      "MATRIZ DE DATOS HEART\n",
      "    X1   X2  Class\n",
      "0  0.0  0.0    1.0\n",
      "1  1.0  1.0    1.0\n",
      "2  1.0  0.0    0.0\n",
      "3  0.0  1.0    0.0\n",
      "4  0.0  0.0    1.0\n"
     ]
    }
   ],
   "source": [
    "dataset_1=Datos('./datasets/xor.csv')\n",
    "print(\"NOMINAL ATRIBUTOS HEART\")\n",
    "print(dataset_1.nominalAtributos)\n",
    "print(\"DICCIONARIO TITANIC\")\n",
    "print (dataset_1.diccionarios)\n",
    "print(\"MATRIZ DE DATOS HEART\")\n",
    "print(dataset_1.datos.head())"
   ]
  },
  {
   "cell_type": "code",
   "execution_count": 3,
   "metadata": {},
   "outputs": [
    {
     "name": "stdout",
     "output_type": "stream",
     "text": [
      "[[0, 1, 0], [0, 0, 1], [1, 1, 1], [1, 0, 0], [1, 1, 1]] 1.0\n",
      "[[1, 1, 1], [0, 1, 0], [1, 1, 1], [1, 1, 1], [1, 0, 0]] 0.753125\n",
      "[[1, 0, 0], [0, 0, 1], [0, 1, 1]] 0.75625\n",
      "[[0, 0, 1], [1, 0, 0], [0, 1, 1], [1, 1, 1], [1, 1, 1]] 0.75625\n",
      "[[0, 0, 1], [0, 1, 1], [1, 0, 0], [1, 1, 1]] 0.775\n",
      "Media de errores: 0.2325\n"
     ]
    }
   ],
   "source": [
    "estrategia = EstrategiaParticionado.ValidacionSimple(5, 0.2)\n",
    "clasificador = Clasificador()\n",
    "\n",
    "cg = ClasificadorGenetico()\n",
    "errores1 = clasificador.validacion(estrategia, dataset_1, cg, None)\n",
    "media = sum(errores1) / len(errores1)\n",
    "print(\"Media de errores: \" + str(media))"
   ]
  }
 ],
 "metadata": {
  "kernelspec": {
   "display_name": "Python 3",
   "language": "python",
   "name": "python3"
  },
  "language_info": {
   "codemirror_mode": {
    "name": "ipython",
    "version": 3
   },
   "file_extension": ".py",
   "mimetype": "text/x-python",
   "name": "python",
   "nbconvert_exporter": "python",
   "pygments_lexer": "ipython3",
   "version": "3.10.12"
  }
 },
 "nbformat": 4,
 "nbformat_minor": 2
}
