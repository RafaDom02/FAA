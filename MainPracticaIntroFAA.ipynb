{
 "cells": [
  {
   "cell_type": "code",
   "execution_count": 1,
   "id": "06e4f144",
   "metadata": {},
   "outputs": [
    {
     "name": "stdout",
     "output_type": "stream",
     "text": [
      "NOMINAL ATRIBUTOS\n",
      "[True, True, True, True, True, True, True, True, True, True]\n",
      "DICCIONARIO\n",
      "{'TLeftSq': {'b': 0, 'o': 1, 'x': 2}, 'TMidSq': {'b': 0, 'o': 1, 'x': 2}, 'TRightSq': {'b': 0, 'o': 1, 'x': 2}, 'MLeftSq': {'b': 0, 'o': 1, 'x': 2}, 'MMidSq': {'b': 0, 'o': 1, 'x': 2}, 'MRightSq': {'b': 0, 'o': 1, 'x': 2}, 'BLeftSq': {'b': 0, 'o': 1, 'x': 2}, 'BMidSq': {'b': 0, 'o': 1, 'x': 2}, 'BRightSq': {'b': 0, 'o': 1, 'x': 2}, 'Class': {'negative': 0, 'positive': 1}}\n",
      "MATRIZ DE DATOS\n",
      "   TLeftSq  TMidSq  TRightSq  MLeftSq  MMidSq  MRightSq  BLeftSq  BMidSq  \\\n",
      "0      2.0     2.0       2.0      2.0     1.0       1.0      2.0     1.0   \n",
      "1      2.0     2.0       2.0      2.0     1.0       1.0      1.0     2.0   \n",
      "2      2.0     2.0       2.0      2.0     1.0       1.0      1.0     1.0   \n",
      "3      2.0     2.0       2.0      2.0     1.0       1.0      1.0     0.0   \n",
      "4      2.0     2.0       2.0      2.0     1.0       1.0      0.0     1.0   \n",
      "\n",
      "   BRightSq  Class  \n",
      "0       1.0    1.0  \n",
      "1       1.0    1.0  \n",
      "2       2.0    1.0  \n",
      "3       0.0    1.0  \n",
      "4       0.0    1.0  \n"
     ]
    }
   ],
   "source": [
    "from Datos import Datos\n",
    "import pandas\n",
    "import EstrategiaParticionado\n",
    "import Clasificador\n",
    "\n",
    "#dataset=Datos('./datasets/heart.csv')\n",
    "dataset=Datos('./datasets/tic-tac-toe.csv')\n",
    "print(\"NOMINAL ATRIBUTOS\")\n",
    "print(dataset.nominalAtributos)\n",
    "print(\"DICCIONARIO\")\n",
    "print (dataset.diccionarios)\n",
    "print(\"MATRIZ DE DATOS\")\n",
    "print(dataset.datos.head())"
   ]
  },
  {
   "cell_type": "code",
   "execution_count": 2,
   "id": "bcd6376e",
   "metadata": {},
   "outputs": [
    {
     "name": "stdout",
     "output_type": "stream",
     "text": [
      "VALIDACIÓN CRUZADA\n",
      "Train-particion 0:  RangeIndex(start=95, stop=958, step=1)\n",
      "Test-particion 0:  RangeIndex(start=0, stop=95, step=1)\n"
     ]
    }
   ],
   "source": [
    "estrategiaVC=EstrategiaParticionado.ValidacionCruzada(10)\n",
    "estrategiaVC.creaParticiones(dataset.datos)       # datos se refiere a la matriz numérica calculada en Datos\n",
    "print(\"VALIDACIÓN CRUZADA\")\n",
    "print(\"Train-particion 0: \", estrategiaVC.particiones[0].indicesTrain)       # particiones contiene la lista de particiones\n",
    "print(\"Test-particion 0: \", estrategiaVC.particiones[0].indicesTest)"
   ]
  },
  {
   "cell_type": "code",
   "execution_count": 3,
   "id": "6b83e30e",
   "metadata": {},
   "outputs": [
    {
     "name": "stdout",
     "output_type": "stream",
     "text": [
      "VALIDACIÓN SIMPLE\n",
      "Train-particion 0:  Index([  2,   4,   5,   6,   8,   9,  10,  11,  12,  13,\n",
      "       ...\n",
      "       943, 944, 945, 948, 949, 950, 952, 953, 954, 955],\n",
      "      dtype='int64', length=671)\n",
      "Test-particion 0:  Index([502, 190, 444,   0,   7, 646,  37, 275, 104, 926,\n",
      "       ...\n",
      "       868, 399, 529, 758, 286, 913,  48, 403, 772,  63],\n",
      "      dtype='int64', length=287)\n"
     ]
    }
   ],
   "source": [
    "estrategiaVS=EstrategiaParticionado.ValidacionSimple(10, 0.3)\n",
    "estrategiaVS.creaParticiones(dataset.datos)       # datos se refiere a la matriz numérica calculada en Datos\n",
    "print(\"VALIDACIÓN SIMPLE\")\n",
    "print(\"Train-particion 0: \", estrategiaVS.particiones[0].indicesTrain)       # particiones contiene la lista de particiones\n",
    "print(\"Test-particion 0: \", estrategiaVS.particiones[0].indicesTest)"
   ]
  },
  {
   "cell_type": "code",
   "execution_count": 4,
   "metadata": {},
   "outputs": [
    {
     "name": "stdout",
     "output_type": "stream",
     "text": [
      "Numero de particiones realizadas: 10\n",
      "Numero de particiones realizadas: 10\n",
      "SE EJECUTA LA PLACE!!!\n",
      "[[0.         0.22683706]\n",
      " [0.51476793 0.30191693]\n",
      " [0.48523207 0.47124601]] \n",
      "\n",
      "[[1.         1.22683706]\n",
      " [1.51476793 1.30191693]\n",
      " [1.48523207 1.47124601]] \n",
      "\n",
      "[0.631578947368421, 0.17894736842105263, 0.26315789473684215, 0.5894736842105264, 0.41052631578947374, 0.4, 0.5052631578947369, 0.8631578947368421, 0.8315789473684211, 0.8842105263157894]\n",
      "##################################################\n",
      "[0.631578947368421, 0.17894736842105263, 0.26315789473684215, 0.5894736842105264, 0.41052631578947374, 0.4, 0.5052631578947369, 0.8631578947368421, 0.8315789473684211, 0.7684210526315789]\n"
     ]
    }
   ],
   "source": [
    "estrategia = EstrategiaParticionado.ValidacionCruzada(10)\n",
    "clasificador = Clasificador.Clasificador()\n",
    "nb1 = Clasificador.ClasificadorNaiveBayes()\n",
    "errores1 = clasificador.validacion(estrategia, dataset, nb1, None)\n",
    "nb2 = Clasificador.ClasificadorNaiveBayes(True)\n",
    "errores2 = clasificador.validacion(estrategia, dataset, nb2, None)\n",
    "print(errores1)\n",
    "print(50*\"#\")\n",
    "print(errores2)"
   ]
  }
 ],
 "metadata": {
  "kernelspec": {
   "display_name": "Python 3 (ipykernel)",
   "language": "python",
   "name": "python3"
  },
  "language_info": {
   "codemirror_mode": {
    "name": "ipython",
    "version": 3
   },
   "file_extension": ".py",
   "mimetype": "text/x-python",
   "name": "python",
   "nbconvert_exporter": "python",
   "pygments_lexer": "ipython3",
   "version": "3.10.12"
  }
 },
 "nbformat": 4,
 "nbformat_minor": 5
}
