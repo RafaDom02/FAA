{
 "cells": [
  {
   "cell_type": "markdown",
   "metadata": {},
   "source": [
    "# Parte I-Regresión logistica"
   ]
  },
  {
   "cell_type": "code",
   "execution_count": 1,
   "metadata": {},
   "outputs": [],
   "source": [
    "from Datos import Datos\n",
    "import EstrategiaParticionado\n",
    "from ClasificadorRegresionLogistica import ClasificadorRegresionLogistica\n",
    "import Clasificador\n",
    "from tabulate import tabulate\n",
    "import numpy as np"
   ]
  },
  {
   "cell_type": "code",
   "execution_count": 2,
   "metadata": {},
   "outputs": [],
   "source": [
    "# Cargamos datasets\n",
    "PARTICIONES=5\n",
    "dataset_1=Datos('./datasets/heart.csv')\n",
    "dataset_1.normalizarDatos()\n",
    "dataset_2=Datos('./datasets/wdbc.csv')\n",
    "dataset_2.normalizarDatos()\n",
    "estrategia = EstrategiaParticionado.ValidacionSimple(PARTICIONES, 0.2)\n",
    "clasificador = Clasificador.Clasificador()"
   ]
  },
  {
   "cell_type": "code",
   "execution_count": 3,
   "metadata": {},
   "outputs": [
    {
     "name": "stdout",
     "output_type": "stream",
     "text": [
      "Indice de errores por partición:\n",
      "+----------------+----------------+\n",
      "|   Nº particion |   Indice error |\n",
      "+================+================+\n",
      "|              1 |       0.190217 |\n",
      "+----------------+----------------+\n",
      "|              2 |       0.11413  |\n",
      "+----------------+----------------+\n",
      "|              3 |       0.125    |\n",
      "+----------------+----------------+\n",
      "|              4 |       0.125    |\n",
      "+----------------+----------------+\n",
      "|              5 |       0.157609 |\n",
      "+----------------+----------------+\n",
      "Indice de errores por partición:\n",
      "+----------------+----------------+\n",
      "|   Nº particion |   Indice error |\n",
      "+================+================+\n",
      "|              1 |       0.206522 |\n",
      "+----------------+----------------+\n",
      "|              2 |       0.11413  |\n",
      "+----------------+----------------+\n",
      "|              3 |       0.108696 |\n",
      "+----------------+----------------+\n",
      "|              4 |       0.141304 |\n",
      "+----------------+----------------+\n",
      "|              5 |       0.152174 |\n",
      "+----------------+----------------+\n"
     ]
    }
   ],
   "source": [
    "logisticReg = ClasificadorRegresionLogistica()\n",
    "\n",
    "errores = clasificador.validacion(estrategia, dataset_1, logisticReg, None)\n",
    "\n",
    "headers = [\"Nº particion\", \"Indice error\"]\n",
    "\n",
    "desviacion_estandar = np.std(errores)\n",
    "media = sum(errores) / len(errores)\n",
    "print(\"Indice de errores por partición:\")\n",
    "table = tabulate(enumerate(errores, 1), headers, tablefmt=\"grid\")\n",
    "print(table)\n",
    "\n",
    "logisticReg = Clasificador.ClasificadorRegresionLogisticaSKLearn()\n",
    "\n",
    "errores = clasificador.validacion(estrategia, dataset_1, logisticReg, None)\n",
    "\n",
    "headers = [\"Nº particion\", \"Indice error\"]\n",
    "\n",
    "desviacion_estandar = np.std(errores)\n",
    "media = sum(errores) / len(errores)\n",
    "print(\"Indice de errores por partición:\")\n",
    "table = tabulate(enumerate(errores, 1), headers, tablefmt=\"grid\")\n",
    "print(table)"
   ]
  }
 ],
 "metadata": {
  "kernelspec": {
   "display_name": "Python 3",
   "language": "python",
   "name": "python3"
  },
  "language_info": {
   "codemirror_mode": {
    "name": "ipython",
    "version": 3
   },
   "file_extension": ".py",
   "mimetype": "text/x-python",
   "name": "python",
   "nbconvert_exporter": "python",
   "pygments_lexer": "ipython3",
   "version": "3.10.12"
  }
 },
 "nbformat": 4,
 "nbformat_minor": 2
}
