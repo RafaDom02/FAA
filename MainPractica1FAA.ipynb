{
 "cells": [
  {
   "cell_type": "markdown",
   "id": "489ea95a",
   "metadata": {},
   "source": [
    "# Apartado I (Naive-Bayes propio heart)"
   ]
  },
  {
   "cell_type": "code",
   "execution_count": null,
   "id": "06e4f144",
   "metadata": {},
   "outputs": [],
   "source": [
    "from Datos import Datos\n",
    "import pandas\n",
    "import EstrategiaParticionado\n",
    "import Clasificador\n",
    "import numpy as np\n",
    "from tabulate import tabulate"
   ]
  },
  {
   "cell_type": "code",
   "execution_count": null,
   "id": "593d81c2",
   "metadata": {},
   "outputs": [],
   "source": [
    "dataset_1=Datos('./datasets/heart.csv')\n",
    "print(\"NOMINAL ATRIBUTOS HEART\")\n",
    "print(dataset_1.nominalAtributos)\n",
    "print(\"DICCIONARIO HEART\")\n",
    "print (dataset_1.diccionarios)\n",
    "print(\"MATRIZ DE DATOS HEART\")\n",
    "print(dataset_1.datos.head())"
   ]
  },
  {
   "cell_type": "code",
   "execution_count": null,
   "id": "bcd6376e",
   "metadata": {},
   "outputs": [],
   "source": [
    "estrategiaVC=EstrategiaParticionado.ValidacionCruzada(10)\n",
    "estrategiaVC.creaParticiones(dataset_1.datos)       # datos se refiere a la matriz numérica calculada en Datos\n",
    "print(\"VALIDACIÓN CRUZADA HEART\")\n",
    "print(\"Train-particion 0: \", estrategiaVC.particiones[0].indicesTrain)       # particiones contiene la lista de particiones\n",
    "print(\"Test-particion 0: \", estrategiaVC.particiones[0].indicesTest)"
   ]
  },
  {
   "cell_type": "code",
   "execution_count": null,
   "id": "6b83e30e",
   "metadata": {},
   "outputs": [],
   "source": [
    "estrategiaVS=EstrategiaParticionado.ValidacionSimple(10, 0.3)\n",
    "estrategiaVS.creaParticiones(dataset_1.datos)       # datos se refiere a la matriz numérica calculada en Datos\n",
    "print(\"VALIDACIÓN SIMPLE HEART\")\n",
    "print(\"Train-particion 0: \", estrategiaVS.particiones[0].indicesTrain)       # particiones contiene la lista de particiones\n",
    "print(\"Test-particion 0: \", estrategiaVS.particiones[0].indicesTest)"
   ]
  },
  {
   "cell_type": "code",
   "execution_count": null,
   "id": "fcd7f530",
   "metadata": {},
   "outputs": [],
   "source": [
    "print(\"Validación Simple de datos HEART\")\n",
    "estrategia = EstrategiaParticionado.ValidacionSimple(10, 0.2)\n",
    "clasificador = Clasificador.Clasificador()\n",
    "nb1 = Clasificador.ClasificadorNaiveBayes()\n",
    "errores1 = clasificador.validacion(estrategia, dataset_1, nb1, None)\n",
    "nb2 = Clasificador.ClasificadorNaiveBayes(True)\n",
    "errores2 = clasificador.validacion(estrategia, dataset_1, nb2, None)\n",
    "\n",
    "headers = [\"Nº particion\", \"Indice error\"]\n",
    "\n",
    "desviacion_estandar = np.std(errores1)\n",
    "media = sum(errores1) / len(errores1)\n",
    "print(\"Indice de errores por partición:\")\n",
    "table = tabulate(enumerate(errores1, 1), headers, tablefmt=\"grid\")\n",
    "print(table)\n",
    "print(\"Desviación estandar: \" + str(desviacion_estandar) + \", media: \" + str(media))\n",
    "print(50*\"#\")\n",
    "\n",
    "desviacion_estandar = np.std(errores2)\n",
    "media = sum(errores2) / len(errores2)\n",
    "print(\"Indice de errores por partición (con corrección La Place):\")\n",
    "table = tabulate(enumerate(errores2, 1), headers, tablefmt=\"grid\")\n",
    "print(table)\n",
    "print(\"Desviación estandar: \" + str(desviacion_estandar) + \", media: \" + str(media))"
   ]
  },
  {
   "cell_type": "code",
   "execution_count": null,
   "id": "79296b92",
   "metadata": {},
   "outputs": [],
   "source": [
    "print(\"Validación cruzada de datos HEART\")\n",
    "estrategia = EstrategiaParticionado.ValidacionCruzada(10)\n",
    "clasificador = Clasificador.Clasificador()\n",
    "nb1 = Clasificador.ClasificadorNaiveBayes()\n",
    "errores1 = clasificador.validacion(estrategia, dataset_1, nb1, None)\n",
    "nb2 = Clasificador.ClasificadorNaiveBayes(True)\n",
    "errores2 = clasificador.validacion(estrategia, dataset_1, nb2, None)\n",
    "\n",
    "desviacion_estandar = np.std(errores1)\n",
    "media = sum(errores1) / len(errores1)\n",
    "print(\"Indice de errores por partición:\")\n",
    "table = tabulate(enumerate(errores1, 1), headers, tablefmt=\"grid\")\n",
    "print(table)\n",
    "print(\"Desviación estandar: \" + str(desviacion_estandar) + \", media: \" + str(media))\n",
    "print(50*\"#\")\n",
    "\n",
    "desviacion_estandar = np.std(errores2)\n",
    "media = sum(errores2) / len(errores2)\n",
    "print(\"Indice de errores por partición (con corrección La Place):\")\n",
    "table = tabulate(enumerate(errores2, 1), headers, tablefmt=\"grid\")\n",
    "print(table)\n",
    "print(\"Desviación estandar: \" + str(desviacion_estandar) + \", media: \" + str(media))\n"
   ]
  },
  {
   "cell_type": "markdown",
   "id": "379c7f6c",
   "metadata": {},
   "source": [
    "# Apartado I (Naive-Bayes propio TIC-TAC-TOE)"
   ]
  },
  {
   "cell_type": "code",
   "execution_count": null,
   "id": "cc8341f2",
   "metadata": {},
   "outputs": [],
   "source": [
    "dataset_2=Datos('./datasets/tic-tac-toe.csv')\n",
    "print(\"NOMINAL ATRIBUTOS TIC-TAC-TOE\")\n",
    "print(dataset_2.nominalAtributos)\n",
    "print(\"DICCIONARIO TIC-TAC-TOE\")\n",
    "print (dataset_2.diccionarios)\n",
    "print(\"MATRIZ DE DATOS TIC-TAC-TOE\")\n",
    "print(dataset_2.datos.head())"
   ]
  },
  {
   "cell_type": "code",
   "execution_count": null,
   "id": "50bb31cf",
   "metadata": {},
   "outputs": [],
   "source": [
    "estrategiaVC=EstrategiaParticionado.ValidacionCruzada(10)\n",
    "estrategiaVC.creaParticiones(dataset_2.datos)       # datos se refiere a la matriz numérica calculada en Datos\n",
    "print(\"VALIDACIÓN CRUZADA TIC-TAC-TOE\")\n",
    "print(\"Train-particion 0: \", estrategiaVC.particiones[0].indicesTrain)       # particiones contiene la lista de particiones\n",
    "print(\"Test-particion 0: \", estrategiaVC.particiones[0].indicesTest)"
   ]
  },
  {
   "cell_type": "code",
   "execution_count": null,
   "id": "d6ea8ea2",
   "metadata": {},
   "outputs": [],
   "source": [
    "estrategiaVS=EstrategiaParticionado.ValidacionSimple(10, 0.3)\n",
    "estrategiaVS.creaParticiones(dataset_1.datos)       # datos se refiere a la matriz numérica calculada en Datos\n",
    "print(\"VALIDACIÓN SIMPLE TIC-TAC-TOE\")\n",
    "print(\"Train-particion 0: \", estrategiaVS.particiones[0].indicesTrain)       # particiones contiene la lista de particiones\n",
    "print(\"Test-particion 0: \", estrategiaVS.particiones[0].indicesTest)"
   ]
  },
  {
   "cell_type": "code",
   "execution_count": null,
   "id": "7b0760ca",
   "metadata": {},
   "outputs": [],
   "source": [
    "print(\"Validación simple de datos TIC-TAC-TOE\")\n",
    "\n",
    "estrategia = EstrategiaParticionado.ValidacionSimple(10, 0.2)\n",
    "clasificador = Clasificador.Clasificador()\n",
    "nb1 = Clasificador.ClasificadorNaiveBayes()\n",
    "errores1 = clasificador.validacion(estrategia, dataset_2, nb1, None)\n",
    "nb2 = Clasificador.ClasificadorNaiveBayes(True)\n",
    "errores2 = clasificador.validacion(estrategia, dataset_2, nb2, None)\n",
    "\n",
    "desviacion_estandar = np.std(errores1)\n",
    "media = sum(errores1) / len(errores1)\n",
    "print(\"Indice de errores por partición:\")\n",
    "table = tabulate(enumerate(errores1, 1), headers, tablefmt=\"grid\")\n",
    "print(table)\n",
    "print(\"Desviación estandar: \" + str(desviacion_estandar) + \", media: \" + str(media))\n",
    "print(50*\"#\")\n",
    "\n",
    "desviacion_estandar = np.std(errores2)\n",
    "media = sum(errores2) / len(errores2)\n",
    "print(\"Indice de errores por partición (con corrección La Place):\")\n",
    "table = tabulate(enumerate(errores2, 1), headers, tablefmt=\"grid\")\n",
    "print(table)\n",
    "print(\"Desviación estandar: \" + str(desviacion_estandar) + \", media: \" + str(media))"
   ]
  },
  {
   "cell_type": "code",
   "execution_count": null,
   "id": "45c639b7",
   "metadata": {},
   "outputs": [],
   "source": [
    "print(\"Validación cruzada de datos TIC-TAC-TOE\")\n",
    "\n",
    "estrategia = EstrategiaParticionado.ValidacionCruzada(10)\n",
    "clasificador = Clasificador.Clasificador()\n",
    "nb1 = Clasificador.ClasificadorNaiveBayes()\n",
    "errores1 = clasificador.validacion(estrategia, dataset_2, nb1, None)\n",
    "nb2 = Clasificador.ClasificadorNaiveBayes(True)\n",
    "errores2 = clasificador.validacion(estrategia, dataset_2, nb2, None)\n",
    "\n",
    "desviacion_estandar = np.std(errores1)\n",
    "media = sum(errores1) / len(errores1)\n",
    "print(\"Indice de errores por partición:\")\n",
    "table = tabulate(enumerate(errores1, 1), headers, tablefmt=\"grid\")\n",
    "print(table)\n",
    "print(\"Desviación estandar: \" + str(desviacion_estandar) + \", media: \" + str(media))\n",
    "print(50*\"#\")\n",
    "\n",
    "desviacion_estandar = np.std(errores2)\n",
    "media = sum(errores2) / len(errores2)\n",
    "print(\"Indice de errores por partición (con corrección La Place):\")\n",
    "table = tabulate(enumerate(errores2, 1), headers, tablefmt=\"grid\")\n",
    "print(table)\n",
    "print(\"Desviación estandar: \" + str(desviacion_estandar) + \", media: \" + str(media))"
   ]
  },
  {
   "cell_type": "markdown",
   "id": "9a36b354",
   "metadata": {},
   "source": [
    "### Breve análisis de los resultados anteriores. Discutir el efecto Laplace\n",
    "Como se puede observar en ambos datasets, la validación simple suele presentar indices de fallos significativamente menores que la validación cruzada en ambos sets de datos, y para el dataset tik-tak-toe, cuando se presenta un dato con valor 0, esta corrección ayuda a rebajar el indice de fallo sutilmente en la posterior validación."
   ]
  },
  {
   "cell_type": "markdown",
   "id": "13bf1944",
   "metadata": {},
   "source": [
    "# Apartado II (Naive-Bayes Scikit-Learn con TIC-TAC-TOE)"
   ]
  },
  {
   "cell_type": "code",
   "execution_count": null,
   "id": "75fdc900",
   "metadata": {},
   "outputs": [],
   "source": [
    "\n",
    "from Clasificador import ClasificadorNaiveBayesSKLearn\n",
    "\n",
    "estrategiaVC=EstrategiaParticionado.ValidacionCruzada(10)\n",
    "estrategiaVC.creaParticiones(dataset_2.datos)\n",
    "\n",
    "dataset_1.extraeDatos(part.indicesTrain)\n",
    "\n",
    "MultinomialNB = ClasificadorNaiveBayesSKLearn(1)\n",
    "MultinomialNB.entrenamiento(dataset_1, dataset_1.nominalAtributos, dataset_1.diccionarios)\n",
    "MultinomialNB.clasifica()\n",
    "GaussianNB = ClasificadorNaiveBayesSKLearn(2)\n",
    "CategoricalNB = ClasificadorNaiveBayesSKLearn(3)\n"
   ]
  }
 ],
 "metadata": {
  "kernelspec": {
   "display_name": "Python 3 (ipykernel)",
   "language": "python",
   "name": "python3"
  },
  "language_info": {
   "codemirror_mode": {
    "name": "ipython",
    "version": 3
   },
   "file_extension": ".py",
   "mimetype": "text/x-python",
   "name": "python",
   "nbconvert_exporter": "python",
   "pygments_lexer": "ipython3",
   "version": "3.10.12"
  }
 },
 "nbformat": 4,
 "nbformat_minor": 5
}
